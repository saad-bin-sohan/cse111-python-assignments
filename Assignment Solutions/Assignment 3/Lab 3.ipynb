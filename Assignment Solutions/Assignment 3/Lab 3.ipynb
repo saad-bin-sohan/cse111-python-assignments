{
  "nbformat": 4,
  "nbformat_minor": 0,
  "metadata": {
    "colab": {
      "provenance": []
    },
    "kernelspec": {
      "name": "python3",
      "display_name": "Python 3"
    },
    "language_info": {
      "name": "python"
    }
  },
  "cells": [
    {
      "cell_type": "code",
      "source": [
        "#task 1 done\n",
        "\n",
        "class DataType:\n",
        "\n",
        "  def __init__ (self, dtype, val):\n",
        "\n",
        "    self.name = dtype\n",
        "    self.value = val\n",
        "\n",
        "#yolo\n",
        "\n",
        "data_type1 = DataType(\"Integer\", 1234)\n",
        "print(data_type1.name)\n",
        "print(data_type1.value)\n",
        "print('=====================')\n",
        "data_type2 = DataType(\"String\", \"Hello\")\n",
        "print(data_type2.name)\n",
        "print(data_type2.value)\n",
        "print('=====================')\n",
        "data_type3 = DataType(\"Float\", 4.0)\n",
        "print(data_type3.name)\n",
        "print(data_type3.value)"
      ],
      "metadata": {
        "colab": {
          "base_uri": "https://localhost:8080/"
        },
        "id": "qaFRWVYpmysD",
        "outputId": "5fa06490-cc3f-487e-eb57-1c5db6c50e6a"
      },
      "execution_count": null,
      "outputs": [
        {
          "output_type": "stream",
          "name": "stdout",
          "text": [
            "Integer\n",
            "1234\n",
            "=====================\n",
            "String\n",
            "Hello\n",
            "=====================\n",
            "Float\n",
            "4.0\n"
          ]
        }
      ]
    },
    {
      "cell_type": "code",
      "execution_count": null,
      "metadata": {
        "colab": {
          "base_uri": "https://localhost:8080/"
        },
        "id": "niYQy0BpfAQJ",
        "outputId": "4c49785c-9595-4cc9-e357-9674877d17d9"
      },
      "outputs": [
        {
          "output_type": "stream",
          "name": "stdout",
          "text": [
            "Heath Ledger\n",
            "Mind Game\n",
            "False\n",
            "=====================\n",
            "Joaquin Phoenix\n",
            "Laughing out Loud\n",
            "True\n",
            "=====================\n",
            "different\n",
            "same\n"
          ]
        }
      ],
      "source": [
        "#task 2 done\n",
        "\n",
        "class Joker:\n",
        "\n",
        "  def __init__(self, name, power, is_he_psycho):\n",
        "\n",
        "    self.name = name\n",
        "    self.power = power\n",
        "    self.is_he_psycho = is_he_psycho\n",
        "\n",
        "#yolo\n",
        "\n",
        "j1 = Joker('Heath Ledger', 'Mind Game', False)\n",
        "print(j1.name)\n",
        "print(j1.power)\n",
        "print(j1.is_he_psycho)\n",
        "print(\"=====================\")\n",
        "\n",
        "j2 = Joker('Joaquin Phoenix', 'Laughing out Loud', True)\n",
        "print(j2.name)\n",
        "print(j2.power)\n",
        "print(j2.is_he_psycho)\n",
        "print(\"=====================\")\n",
        "\n",
        "if j1 == j2:\n",
        "  print('same')\n",
        "else:\n",
        "  print('different')\n",
        "j2.name = 'Heath Ledger'\n",
        "if j1.name == j2.name:\n",
        "  print('same')\n",
        "else:\n",
        "  print('different')"
      ]
    },
    {
      "cell_type": "code",
      "source": [
        "#task 3\n",
        "\n",
        "class Pokemon:\n",
        "\n",
        "  def __init__ (self, pokemon1_name, pokemon2_name, pokemon1_power, pokemon2_power, damage_rate):\n",
        "    self.pokemon1_name = pokemon1_name\n",
        "    self.pokemon2_name = pokemon2_name\n",
        "    self.pokemon1_power = pokemon1_power\n",
        "    self.pokemon2_power = pokemon2_power\n",
        "    self.damage_rate = damage_rate\n",
        "\n",
        "team_bulb = Pokemon('bulbasaur', 'squirtle', 80, 70, 9)\n",
        "print('=======Team 2=======')\n",
        "print('Pokemon 1:',team_bulb.pokemon1_name, team_bulb.pokemon1_power)\n",
        "print('Pokemon 2:',team_bulb.pokemon2_name, team_bulb.pokemon2_power)\n",
        "pika_combined_power = (team_bulb.pokemon1_power + team_bulb.pokemon2_power) * team_bulb.damage_rate\n",
        "print('Combined Power:', pika_combined_power)"
      ],
      "metadata": {
        "id": "W1yLMM24oZLQ",
        "colab": {
          "base_uri": "https://localhost:8080/"
        },
        "outputId": "25b59141-e970-4fbe-b854-91d199e7d81a"
      },
      "execution_count": null,
      "outputs": [
        {
          "output_type": "stream",
          "name": "stdout",
          "text": [
            "=======Team 2=======\n",
            "Pokemon 1: bulbasaur 80\n",
            "Pokemon 2: squirtle 70\n",
            "Combined Power: 1350\n"
          ]
        }
      ]
    },
    {
      "cell_type": "code",
      "source": [
        "#task 4 done\n",
        "\n",
        "class Country:\n",
        "\n",
        "  def __init__(self):\n",
        "    self.name = 'Bangladesh'\n",
        "    self.continent = 'Asia'\n",
        "    self.capital = 'Dhaka'\n",
        "    self.fifa_ranking = 187\n",
        "\n",
        "\n",
        "#yolo\n",
        "\n",
        "country = Country()\n",
        "print('Name:',country.name)\n",
        "print('Continent:',country.continent)\n",
        "print('Capital:',country.capital)\n",
        "print('Fifa Ranking:',country.fifa_ranking)\n",
        "print('===================')\n",
        "\n",
        "country.name = \"Belgium\"\n",
        "country.continent = \"Europe\"\n",
        "country.capital = \"Brussels\"\n",
        "country.fifa_ranking = 1\n",
        "print('Name:',country.name)\n",
        "print('Continent:',country.continent)\n",
        "print('Capital:',country.capital)\n",
        "print('Fifa Ranking:',country.fifa_ranking)"
      ],
      "metadata": {
        "colab": {
          "base_uri": "https://localhost:8080/"
        },
        "id": "U8xDdbkQikA8",
        "outputId": "72269079-7adb-48f0-a9d5-1bdf9ece8afa"
      },
      "execution_count": null,
      "outputs": [
        {
          "output_type": "stream",
          "name": "stdout",
          "text": [
            "Name: Bangladesh\n",
            "Continent: Asia\n",
            "Capital: Dhaka\n",
            "Fifa Ranking: 187\n",
            "===================\n",
            "Name: Belgium\n",
            "Continent: Europe\n",
            "Capital: Brussels\n",
            "Fifa Ranking: 1\n"
          ]
        }
      ]
    },
    {
      "cell_type": "code",
      "source": [
        "#task 5\n",
        "\n",
        "class DemonSlayer:\n",
        "\n",
        "  def __init__ (self, name, style, techn, kill_count):\n",
        "\n",
        "    self.name = name\n",
        "    self.style = style\n",
        "    self.number_of_technique = techn\n",
        "    self.kill = kill_count\n",
        "\n",
        "tanjiro = DemonSlayer(\"Tanjiro\", \"Water Breathing\", 10, 10)\n",
        "print('Name:',tanjiro.name)\n",
        "print('Fighting Style:',tanjiro.style)\n",
        "print(f'Knows {tanjiro.number_of_technique} technique(s) and has killed {tanjiro.kill} demon(s)')\n",
        "print('===================')\n",
        "zenitsu = DemonSlayer(\"Zenitsu\", \"Thunder Breathing\", 1, 4)\n",
        "print('Name:',zenitsu.name)\n",
        "print('Fighting Style:',zenitsu.style)\n",
        "print(f'Knows {zenitsu.number_of_technique} technique(s) and has killed {zenitsu.kill} demon(s)')\n",
        "print('===================')\n",
        "inosuke = DemonSlayer(\"Inosuke\", \"Beast Breathing\", 5, 7)\n",
        "print('Name:',inosuke.name)\n",
        "print('Fighting Style:',inosuke.style)\n",
        "print(f'Knows {inosuke.number_of_technique} technique(s) and has killed {inosuke.kill} demon(s)')\n",
        "print('===================')\n",
        "print(f'{tanjiro.name}, {zenitsu.name}, {inosuke.name} knows total {tanjiro.number_of_technique + zenitsu.number_of_technique + inosuke.number_of_technique} techniques')\n",
        "print(f'They have killed total {tanjiro.kill + zenitsu.kill + inosuke.kill} demons')"
      ],
      "metadata": {
        "colab": {
          "base_uri": "https://localhost:8080/"
        },
        "id": "Es4Y_72eYRKH",
        "outputId": "8b809768-de54-4857-f177-d610ecb8a96a"
      },
      "execution_count": null,
      "outputs": [
        {
          "output_type": "stream",
          "name": "stdout",
          "text": [
            "Name: Tanjiro\n",
            "Fighting Style: Water Breathing\n",
            "Knows 10 technique(s) and has killed 10 demon(s)\n",
            "===================\n",
            "Name: Zenitsu\n",
            "Fighting Style: Thunder Breathing\n",
            "Knows 1 technique(s) and has killed 4 demon(s)\n",
            "===================\n",
            "Name: Inosuke\n",
            "Fighting Style: Beast Breathing\n",
            "Knows 5 technique(s) and has killed 7 demon(s)\n",
            "===================\n",
            "Tanjiro, Zenitsu, Inosuke knows total 16 techniques\n",
            "They have killed total 21 demons\n"
          ]
        }
      ]
    },
    {
      "cell_type": "code",
      "source": [
        "#task 6 done\n",
        "\n",
        "class box:\n",
        "\n",
        "  def __init__(self, hwb_list):\n",
        "    print(\"Creating a Box!\")\n",
        "\n",
        "    self.height = hwb_list[0]\n",
        "    self.width = hwb_list[1]\n",
        "    self.breadth = hwb_list[2]\n",
        "    print(\"Volume of the box is\", self.height*self.width*self.breadth, \"cubic units.\")\n",
        "\n",
        "print(\"Box 1\")\n",
        "b1 = box([10,10,10])\n",
        "print(\"=========================\")\n",
        "print(\"Height:\", b1.height)\n",
        "print(\"Width:\", b1.width)\n",
        "print(\"Breadth:\", b1.breadth)\n",
        "print(\"-------------------------\")\n",
        "print(\"Box 2\")\n",
        "b2 = box((30,10,10))\n",
        "print(\"=========================\")\n",
        "print(\"Height:\", b2.height)\n",
        "print(\"Width:\", b2.width)\n",
        "print(\"Breadth:\", b2.breadth)\n",
        "b2.height = 300\n",
        "print(\"Updating Box 2!\")\n",
        "print(\"Height:\", b2.height)\n",
        "print(\"Width:\", b2.width)\n",
        "print(\"Breadth:\", b2.breadth)\n",
        "print(\"-------------------------\")\n",
        "print(\"Box 3\")\n",
        "b3 = b2\n",
        "print(\"Height:\", b3.height)\n",
        "print(\"Width:\", b3.width)\n",
        "print(\"Breadth:\", b3.breadth)\n"
      ],
      "metadata": {
        "colab": {
          "base_uri": "https://localhost:8080/"
        },
        "id": "wbDQ_xMjkQRb",
        "outputId": "a80194ac-59fe-4cfe-c1f2-564ce78165b4"
      },
      "execution_count": null,
      "outputs": [
        {
          "output_type": "stream",
          "name": "stdout",
          "text": [
            "Box 1\n",
            "Creating a Box!\n",
            "Volume of the box is 1000 cubic units.\n",
            "=========================\n",
            "Height: 10\n",
            "Width: 10\n",
            "Breadth: 10\n",
            "-------------------------\n",
            "Box 2\n",
            "Creating a Box!\n",
            "Volume of the box is 3000 cubic units.\n",
            "=========================\n",
            "Height: 30\n",
            "Width: 10\n",
            "Breadth: 10\n",
            "Updating Box 2!\n",
            "Height: 300\n",
            "Width: 10\n",
            "Breadth: 10\n",
            "-------------------------\n",
            "Box 3\n",
            "Height: 300\n",
            "Width: 10\n",
            "Breadth: 10\n"
          ]
        }
      ]
    },
    {
      "cell_type": "code",
      "source": [
        "#task 7 done\n",
        "\n",
        "class buttons:\n",
        "  \n",
        "  def __init__(self, word, spaces, border):\n",
        "\n",
        "    self.word = word\n",
        "    self.spaces = spaces\n",
        "    self.border = border\n",
        "    self.count = 1 + spaces + len(word) + spaces + 1\n",
        "\n",
        "    print(word, \"Button Specifications: \")\n",
        "    print(\"Button name: \", self.word)\n",
        "    print(\"Number of the border characters for the top and the bottom:\", self.count)\n",
        "    print(\"Number of spaces between the left side border and the first character of the button name: \", self.spaces)\n",
        "    print(\"Number of spaces between the right side border and the last character of the button name:\", self.spaces)\n",
        "    print(\"Characters representing the borders: \", self.border)\n",
        "    print(border*self.count)\n",
        "    print(border, ' '*(self.spaces-2), word, ' '*(self.spaces-2), border)\n",
        "    print(border*self.count)\n",
        "\n",
        "\n",
        "word = \"CANCEL\"\n",
        "spaces = 10\n",
        "border = 'x'\n",
        "b1 = buttons(word, spaces, border)\n",
        "print(\"=======================================================\")\n",
        "b2 = buttons(\"Notify\",3, '!')\n",
        "print(\"=======================================================\")\n",
        "b3 = buttons('SAVE PROGRESS', 5, '$')"
      ],
      "metadata": {
        "colab": {
          "base_uri": "https://localhost:8080/"
        },
        "id": "2bwF9VlVrbSv",
        "outputId": "1a26a7a4-8429-4b80-b221-aa21faf983d4"
      },
      "execution_count": null,
      "outputs": [
        {
          "output_type": "stream",
          "name": "stdout",
          "text": [
            "CANCEL Button Specifications: \n",
            "Button name:  CANCEL\n",
            "Number of the border characters for the top and the bottom: 28\n",
            "Number of spaces between the left side border and the first character of the button name:  10\n",
            "Number of spaces between the right side border and the last character of the button name: 10\n",
            "Characters representing the borders:  x\n",
            "xxxxxxxxxxxxxxxxxxxxxxxxxxxx\n",
            "x          CANCEL          x\n",
            "xxxxxxxxxxxxxxxxxxxxxxxxxxxx\n",
            "=======================================================\n",
            "Notify Button Specifications: \n",
            "Button name:  Notify\n",
            "Number of the border characters for the top and the bottom: 14\n",
            "Number of spaces between the left side border and the first character of the button name:  3\n",
            "Number of spaces between the right side border and the last character of the button name: 3\n",
            "Characters representing the borders:  !\n",
            "!!!!!!!!!!!!!!\n",
            "!   Notify   !\n",
            "!!!!!!!!!!!!!!\n",
            "=======================================================\n",
            "SAVE PROGRESS Button Specifications: \n",
            "Button name:  SAVE PROGRESS\n",
            "Number of the border characters for the top and the bottom: 25\n",
            "Number of spaces between the left side border and the first character of the button name:  5\n",
            "Number of spaces between the right side border and the last character of the button name: 5\n",
            "Characters representing the borders:  $\n",
            "$$$$$$$$$$$$$$$$$$$$$$$$$\n",
            "$     SAVE PROGRESS     $\n",
            "$$$$$$$$$$$$$$$$$$$$$$$$$\n"
          ]
        }
      ]
    },
    {
      "cell_type": "code",
      "source": [
        "#task 8 done but process needs confirmation from st\n",
        "\n",
        "class Calculator:\n",
        "\n",
        "  def __init__ (self, num1, operator, num2):\n",
        "    self.num1 = num1\n",
        "    self.operator = operator\n",
        "    self.num2 = num2\n",
        "    print(\"Let's Calculate!\")\n",
        "    \n",
        "  def add(self):\n",
        "    return (self.num1 + self.num2)\n",
        "\n",
        "  def subtract(self):\n",
        "    return (self.num1 - self.num2)\n",
        "\n",
        "  def multiply(self):\n",
        "    return (self.num1 * self.num2)\n",
        "\n",
        "  def divide(self):\n",
        "    return (self.num1 / self.num2)\n",
        "\n",
        "n1 = int(input('enter first num: '))\n",
        "operator = input('Enter operand: ')\n",
        "n2 = int(input('enter second num: '))\n",
        "\n",
        "obj = Calculator(n1, operator, n2)\n",
        "\n",
        "if operator == '+':\n",
        "  result = obj.add()\n",
        "\n",
        "elif operator == '-':\n",
        "  result = obj.subtract()\n",
        "\n",
        "elif operator == '*':\n",
        "  result = obj.multiply()\n",
        "\n",
        "elif operator == '/':\n",
        "  result = obj.divide\n",
        "  \n",
        "print('Value 1:', n1)\n",
        "print('Operator:', operator)\n",
        "print('Value 2:', n2)\n",
        "print('Result:', result)"
      ],
      "metadata": {
        "id": "uwQuWFVTxt-I",
        "colab": {
          "base_uri": "https://localhost:8080/"
        },
        "outputId": "2e1c8bc2-7aac-418b-dafe-3ccc2768726f"
      },
      "execution_count": null,
      "outputs": [
        {
          "output_type": "stream",
          "name": "stdout",
          "text": [
            "enter first num: 1\n",
            "Enter operand: +\n",
            "enter second num: 2\n",
            "Let's Calculate!\n",
            "Value 1: 1\n",
            "Operator: +\n",
            "Value 2: 2\n",
            "Result: 3\n"
          ]
        }
      ]
    },
    {
      "cell_type": "code",
      "source": [
        "#task 9 done\n",
        "\n",
        "class Patient:\n",
        "\n",
        "  def __init__(self, name, age, weight, height):\n",
        "\n",
        "    self.name = name\n",
        "    self.age = age\n",
        "    self.weight = weight\n",
        "    self.height = height\n",
        "\n",
        "  def printDetails(self):\n",
        "    print('Name:', self.name)\n",
        "    print('Age:', self.age)\n",
        "    print('Weight:', self.weight, 'kg')\n",
        "    print('Height:', self.height, 'cm')\n",
        "    print('BMI:', self.weight / ( (self.height/100)**2) )\n",
        "\n",
        "p1 = Patient(\"A\", 55, 63.0, 158.0)\n",
        "p1.printDetails()\n",
        "print(\"====================\")\n",
        "p2 = Patient(\"B\", 53, 61.0, 149.0)\n",
        "p2.printDetails()"
      ],
      "metadata": {
        "colab": {
          "base_uri": "https://localhost:8080/"
        },
        "id": "RBw-4rZeiDAG",
        "outputId": "fe57d4ca-e566-40bc-a743-7b87d40bd136"
      },
      "execution_count": null,
      "outputs": [
        {
          "output_type": "stream",
          "name": "stdout",
          "text": [
            "Name: A\n",
            "Age: 55\n",
            "Weight: 63.0 kg\n",
            "Height: 158.0 cm\n",
            "BMI: 25.236340330075304\n",
            "====================\n",
            "Name: B\n",
            "Age: 53\n",
            "Weight: 61.0 kg\n",
            "Height: 149.0 cm\n",
            "BMI: 27.476239809017613\n"
          ]
        }
      ]
    },
    {
      "cell_type": "code",
      "source": [
        "#task 10 done needs confrimation from st\n",
        "\n",
        "class Vehicle:\n",
        "\n",
        "  def __init__(self):\n",
        "    self.x = 0\n",
        "    self.y = 0\n",
        "\n",
        "  def print_position(self):\n",
        "    print(f\"({self.x},{self.y})\")\n",
        "  \n",
        "  def moveUp(self):\n",
        "    self.y += 1\n",
        "\n",
        "  def moveLeft(self):\n",
        "    self.x -= 1\n",
        "\n",
        "  def moveDown(self):\n",
        "    self.y -= 1\n",
        "\n",
        "  def moveRight(self):\n",
        "    self.x += 1\n",
        "\n",
        "car = Vehicle()\n",
        "car.print_position()\n",
        "car.moveUp()\n",
        "car.print_position()\n",
        "car.moveLeft()\n",
        "car.print_position()\n",
        "car.moveDown()\n",
        "car.print_position()\n",
        "car.moveRight()"
      ],
      "metadata": {
        "colab": {
          "base_uri": "https://localhost:8080/"
        },
        "id": "f9V_L_Qyj_L4",
        "outputId": "e463af60-4045-4f94-fe33-cd1109f8e0fc"
      },
      "execution_count": null,
      "outputs": [
        {
          "output_type": "stream",
          "name": "stdout",
          "text": [
            "(0,0)\n",
            "(0,1)\n",
            "(-1,1)\n",
            "(-1,0)\n"
          ]
        }
      ]
    },
    {
      "cell_type": "code",
      "source": [
        "#task 11 done\n",
        "\n",
        "class Shape:\n",
        "\n",
        "  def __init__(self, shape, par_1, par_2):\n",
        "    self.shape = shape\n",
        "    self.par_1 = par_1\n",
        "    self.par_2 = par_2\n",
        "    self.mult_shapes = ('Triangle', 'Square', 'Rectangle')\n",
        "    self.area_shape = 'Shape unknown'\n",
        "  \n",
        "  def area(self):\n",
        "\n",
        "    if self.shape in self.mult_shapes:\n",
        "      self.area_shape = self.par_1 * self.par_2\n",
        "\n",
        "    elif self.shape == 'Rhombus':\n",
        "      self.area_shape = ( self.par_1 * self.par_2 ) / 2\n",
        "\n",
        "    print('Area:', self.area_shape)\n",
        "\n",
        "triangle = Shape(\"Triangle\",10,25)\n",
        "triangle.area()\n",
        "print(\"==========================\")\n",
        "square = Shape(\"Square\",10,10)\n",
        "square.area()\n",
        "print(\"==========================\")\n",
        "rhombus = Shape(\"Rhombus\",18,25)\n",
        "rhombus.area()\n",
        "print(\"==========================\")\n",
        "rectangle = Shape(\"Rectangle\",15,30)\n",
        "rectangle.area()\n",
        "print(\"==========================\")\n",
        "trapezium = Shape(\"Trapezium\",15,30)\n",
        "trapezium.area()"
      ],
      "metadata": {
        "colab": {
          "base_uri": "https://localhost:8080/"
        },
        "id": "aHoAkjSVnBfU",
        "outputId": "0777803d-634c-44e3-c4b1-eac6f824028f"
      },
      "execution_count": null,
      "outputs": [
        {
          "output_type": "stream",
          "name": "stdout",
          "text": [
            "Area: 250\n",
            "==========================\n",
            "Area: 100\n",
            "==========================\n",
            "Area: 225.0\n",
            "==========================\n",
            "Area: 450\n",
            "==========================\n",
            "Area: Shape unknown\n"
          ]
        }
      ]
    },
    {
      "cell_type": "code",
      "source": [
        "#task 12 needs st confirmation\n",
        "\n",
        "class Calculator:\n",
        "    print('Calculator is ready!')\n",
        "    def calculate(self, num1, num2, operator):\n",
        "      self.num1 = num1\n",
        "      self.num2 = num2\n",
        "      self.oper = operator\n",
        "      if operator == '+':\n",
        "        self.result = self.add()\n",
        "      elif operator == '-':\n",
        "        self.result = self.subtract()\n",
        "      elif operator == '*':\n",
        "        self.result = self.multiply()\n",
        "      elif operator == '/':\n",
        "        self.result = self.divide()\n",
        "\n",
        "      return self.result\n",
        "    def add(self):\n",
        "        return (self.num1 + self.num2)\n",
        "    def subtract(self):\n",
        "        return self.num1 - self.num2\n",
        "    def multiply(self):\n",
        "        return (self.num1 * self.num2)\n",
        "    def divide(self):\n",
        "        return (self.num1 / self.num2)\n",
        "    def showCalculation(self):\n",
        "        print(f\"{self.num1} {self.oper} {self.num2} = {self.result}\")\n",
        "#driver code\n",
        "c1 = Calculator()\n",
        "print(\"==================\")\n",
        "val = c1.calculate(10, 20, '+')\n",
        "print(\"Returned value:\", val)\n",
        "c1.showCalculation()\n",
        "print(\"==================\")\n",
        "val = c1.calculate(val, 10, '-')\n",
        "print(\"Returned value:\", val)\n",
        "c1.showCalculation()\n",
        "print(\"==================\")\n",
        "val = c1.calculate(val, 5, '*')\n",
        "print(\"Returned value:\", val)\n",
        "c1.showCalculation()\n",
        "print(\"==================\")\n",
        "val = c1.calculate(val, 16, '/')\n",
        "print(\"Returned value:\", val)\n",
        "c1.showCalculation()"
      ],
      "metadata": {
        "colab": {
          "base_uri": "https://localhost:8080/"
        },
        "id": "4VU48Ojzqqff",
        "outputId": "00edff23-18d0-4a9a-816c-192eae9dd8bc"
      },
      "execution_count": null,
      "outputs": [
        {
          "output_type": "stream",
          "name": "stdout",
          "text": [
            "Calculator is ready!\n",
            "==================\n",
            "Returned value: 30\n",
            "10 + 20 = 30\n",
            "==================\n",
            "Returned value: 20\n",
            "30 - 10 = 20\n",
            "==================\n",
            "Returned value: 100\n",
            "20 * 5 = 100\n",
            "==================\n",
            "Returned value: 6.25\n",
            "100 / 16 = 6.25\n"
          ]
        }
      ]
    },
    {
      "cell_type": "code",
      "source": [
        "#task 13\n",
        "\n",
        "class Programmer:\n",
        "\n",
        "  def __init__(self, name, lang, years):\n",
        "    self.name = name\n",
        "    self.lang = lang\n",
        "    self.years = years\n",
        "\n",
        "  def printDetails(self):\n",
        "    print(f\"Horray! A new programmer is born\\nName: {self.name}\\nLanguage: {self.lang}\\nExperience: {self.years} years\\n\")\n",
        "\n",
        "  def addExp(self, yr):\n",
        "    self.years += yr\n",
        "\n",
        "\n",
        "#driver code\n",
        "p1 = Programmer(\"Ethen Hunt\", \"Java\", 10)\n",
        "p1.printDetails()\n",
        "print('--------------------------')\n",
        "p2 = Programmer(\"James Bond\", \"C++\", 7)\n",
        "p2.printDetails()\n",
        "print('--------------------------')\n",
        "p3 = Programmer(\"Jon Snow\", \"Python\", 4)\n",
        "p3.printDetails()\n",
        "p3.addExp(5)\n",
        "p3.printDetails()"
      ],
      "metadata": {
        "colab": {
          "base_uri": "https://localhost:8080/"
        },
        "id": "R4DFxfEFolrd",
        "outputId": "dbb21d6c-ec93-46f6-8d55-f01e63fbfab0"
      },
      "execution_count": null,
      "outputs": [
        {
          "output_type": "stream",
          "name": "stdout",
          "text": [
            "Horray! A new programmer is born\n",
            "Name: Ethen Hunt\n",
            "Language: Java\n",
            "Experience: 10 years\n",
            "\n",
            "--------------------------\n",
            "Horray! A new programmer is born\n",
            "Name: James Bond\n",
            "Language: C++\n",
            "Experience: 7 years\n",
            "\n",
            "--------------------------\n",
            "Horray! A new programmer is born\n",
            "Name: Jon Snow\n",
            "Language: Python\n",
            "Experience: 4 years\n",
            "\n",
            "Horray! A new programmer is born\n",
            "Name: Jon Snow\n",
            "Language: Python\n",
            "Experience: 9 years\n",
            "\n"
          ]
        }
      ]
    }
  ]
}