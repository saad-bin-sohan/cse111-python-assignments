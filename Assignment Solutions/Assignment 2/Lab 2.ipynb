{
  "nbformat": 4,
  "nbformat_minor": 0,
  "metadata": {
    "colab": {
      "provenance": []
    },
    "kernelspec": {
      "name": "python3",
      "display_name": "Python 3"
    },
    "language_info": {
      "name": "python"
    }
  },
  "cells": [
    {
      "cell_type": "code",
      "execution_count": null,
      "metadata": {
        "colab": {
          "base_uri": "https://localhost:8080/"
        },
        "id": "vSQXBLthdYZU",
        "outputId": "e2cde56a-ccd5-4d4f-a042-eb09aef7e3d1"
      },
      "outputs": [
        {
          "output_type": "stream",
          "name": "stdout",
          "text": [
            "0\n"
          ]
        }
      ],
      "source": [
        "#task 1\n",
        "\n",
        "def divider(n, d):\n",
        "\n",
        "  if d!= 0:\n",
        "    result = (n/d) - (n//d)\n",
        "    if result == 0:\n",
        "      return int(result)\n",
        "    return result\n",
        "  else:\n",
        "    result = 0\n",
        "    return result\n",
        "\n",
        "c = divider(0, 5)\n",
        "print(c)"
      ]
    },
    {
      "cell_type": "code",
      "source": [
        "#task 2\n",
        "\n",
        "def bmi_calc(h, w):\n",
        "\n",
        "  bmi = w/((h/100)**2)\n",
        "  bmi = round(bmi,1)\n",
        "\n",
        "  if bmi < 18.5:\n",
        "    print('Score is', bmi, end='')\n",
        "    print('. You are Underweight.')\n",
        "  \n",
        "  elif 18.5 <= bmi < 24.9:\n",
        "    print('Score is', bmi, end='')\n",
        "    print('. You are Normal.')\n",
        "\n",
        "  elif 25 <= bmi <= 30:\n",
        "    print('Score is', bmi, end='')\n",
        "    print('. You are Overweight.')\n",
        "  elif bmi>30:\n",
        "    print('Score is', bmi, end='')\n",
        "    print('. You are Obese.')\n",
        "bmi_calc(152, 48)"
      ],
      "metadata": {
        "colab": {
          "base_uri": "https://localhost:8080/"
        },
        "id": "3H6AHg6Ad9p7",
        "outputId": "70018083-d9e2-4f49-e8c4-e64b087a7a68"
      },
      "execution_count": null,
      "outputs": [
        {
          "output_type": "stream",
          "name": "stdout",
          "text": [
            "Score is 20.8. You are Normal.\n"
          ]
        }
      ]
    },
    {
      "cell_type": "code",
      "source": [
        "#task 3\n",
        "\n",
        "def calc(min, max, div):\n",
        "\n",
        "  sum = 0\n",
        "\n",
        "  for i in range(min, max):\n",
        "    if i % div == 0:\n",
        "      sum += i\n",
        "  return sum\n",
        "\n",
        "print(calc(3, 16, 3))"
      ],
      "metadata": {
        "colab": {
          "base_uri": "https://localhost:8080/"
        },
        "id": "JRMO1lQvhhD9",
        "outputId": "9bbbdf68-18e8-4ee2-93d2-2431b1cca8cc"
      },
      "execution_count": null,
      "outputs": [
        {
          "output_type": "stream",
          "name": "stdout",
          "text": [
            "45\n"
          ]
        }
      ]
    },
    {
      "cell_type": "code",
      "source": [
        "#task 4\n",
        "def bring_my_food(item, place = 'Mohakhali'):\n",
        "\n",
        "  item = item.lower()\n",
        "\n",
        "  burger_info = (  ('bbq chicken cheese burger', 250), ('beef burger', 170), ('naga drums',  200) )\n",
        "\n",
        "  price = 0\n",
        "\n",
        "  for tuples in burger_info:\n",
        "    if item == tuples[0]:\n",
        "      price += tuples[1] + (tuples[1] * 0.08)\n",
        "\n",
        "  if place == 'Mohakhali':\n",
        "    price += 40\n",
        "\n",
        "  else:\n",
        "    price += 60\n",
        "\n",
        "  return price\n",
        "\n",
        "bring_my_food('Beef Burger', 'Dhanmondi')"
      ],
      "metadata": {
        "colab": {
          "base_uri": "https://localhost:8080/"
        },
        "id": "njRgp1xqBVcC",
        "outputId": "29f10175-2df3-4184-d7d3-397eb8249a71"
      },
      "execution_count": null,
      "outputs": [
        {
          "output_type": "execute_result",
          "data": {
            "text/plain": [
              "243.6"
            ]
          },
          "metadata": {},
          "execution_count": 23
        }
      ]
    },
    {
      "cell_type": "code",
      "source": [
        "#task 5\n",
        "\n",
        "def replace_domain(mail_id, current_domain, new_domain =None):\n",
        "\n",
        "  if new_domain != None:\n",
        "\n",
        "    username, dom = mail_id.split('@')\n",
        "\n",
        "    new_dom = username + '@sheba.xyz'\n",
        "    print('Changed:', new_dom)\n",
        "\n",
        "  else:\n",
        "    print('Unchanged:', mail_id)\n",
        "\n",
        "replace_domain('alice@kaaj.com', 'sheba.xyz', 'kaaj.com')\n",
        "replace_domain('bob@sheba.xyz', 'sheba.xyz')"
      ],
      "metadata": {
        "colab": {
          "base_uri": "https://localhost:8080/"
        },
        "id": "8b7cmiKmjXBt",
        "outputId": "566b9c38-1cfb-4da8-cb6a-ded9672aab3e"
      },
      "execution_count": null,
      "outputs": [
        {
          "output_type": "stream",
          "name": "stdout",
          "text": [
            "Changed: alice@sheba.xyz\n",
            "Unchanged: bob@sheba.xyz\n"
          ]
        }
      ]
    },
    {
      "cell_type": "code",
      "source": [
        "#task 6\n",
        "\n",
        "def vowel_finder(name):\n",
        "\n",
        "  name = name.lower()\n",
        "\n",
        "  count = 0\n",
        "  result = 'Vowels: '\n",
        "\n",
        "  vowel_list = []\n",
        "\n",
        "  for char in name:\n",
        "\n",
        "    if char in 'aeiou':\n",
        "      count += 1\n",
        "      vowel_list.append(char)\n",
        "\n",
        "  if count!=0:\n",
        "    for elem in vowel_list:\n",
        "      result += elem + ', '\n",
        "\n",
        "    result = result[:-2:] + '. ' + 'Total number of vowels: ' + str(count)\n",
        "\n",
        "  else:\n",
        "    result = None\n",
        "\n",
        "  return result\n",
        "\n",
        "user = vowel_finder('Steve jobs')\n",
        "\n",
        "if user != None:\n",
        "  print(user)\n",
        "\n",
        "else:\n",
        "  print('No vowels in the name')"
      ],
      "metadata": {
        "colab": {
          "base_uri": "https://localhost:8080/"
        },
        "id": "GBFw-acx3hqc",
        "outputId": "09fd9405-3f85-4474-99a3-c0b375365d7f"
      },
      "execution_count": null,
      "outputs": [
        {
          "output_type": "stream",
          "name": "stdout",
          "text": [
            "Vowels: e, e, o. Total number of vowels: 3\n"
          ]
        }
      ]
    },
    {
      "cell_type": "code",
      "source": [
        "#task 7\n",
        "\n",
        "def palindrome(word):\n",
        "\n",
        "  word = word.lower()\n",
        "\n",
        "  first_part = ''\n",
        "  second_part = ''\n",
        "\n",
        "  if ' ' in word:\n",
        "\n",
        "    word_wo_space = ''\n",
        "\n",
        "    for char in word:\n",
        "\n",
        "      if char != ' ':\n",
        "\n",
        "        word_wo_space += char\n",
        "\n",
        "  else:\n",
        "    word_wo_space = word\n",
        "\n",
        "  if len(word_wo_space) %2==1:\n",
        "\n",
        "    checkpoint = len(word_wo_space) //2\n",
        "\n",
        "  else:\n",
        "    checkpoint = (len(word_wo_space) //2) +1\n",
        "\n",
        "  for i in range(checkpoint+1):\n",
        "\n",
        "    first_part += word_wo_space[i]\n",
        "\n",
        "  for i in range(-1, -checkpoint-2, -1):\n",
        "    second_part += word_wo_space[i]\n",
        "\n",
        "  if first_part == second_part:\n",
        "    print('Palindrome')\n",
        "\n",
        "  else:\n",
        "    print('Not a Palindrome')\n",
        "\n",
        "palindrome('madam')\n",
        "palindrome('hello')\n",
        "palindrome('nurses run')"
      ],
      "metadata": {
        "colab": {
          "base_uri": "https://localhost:8080/"
        },
        "id": "1XvG1Q7mleGV",
        "outputId": "24ef3848-95a1-4f7f-f3bd-1362d4d8a872"
      },
      "execution_count": null,
      "outputs": [
        {
          "output_type": "stream",
          "name": "stdout",
          "text": [
            "Palindrome\n",
            "Not a Palindrome\n",
            "Palindrome\n"
          ]
        }
      ]
    },
    {
      "cell_type": "code",
      "source": [
        "#task 8\n",
        "\n",
        "def day_converter(days):\n",
        "\n",
        "  year = days//365\n",
        "\n",
        "  months = (days % 365) //30\n",
        "\n",
        "  day = (days%365) % 30 \n",
        "\n",
        "  print(year, 'years,', months, 'months and', day, 'days')\n",
        "\n",
        "day_converter(4000)"
      ],
      "metadata": {
        "colab": {
          "base_uri": "https://localhost:8080/"
        },
        "id": "u6FMr2528C5u",
        "outputId": "a8063533-7e25-45f3-fd3f-a131b38a1194"
      },
      "execution_count": null,
      "outputs": [
        {
          "output_type": "stream",
          "name": "stdout",
          "text": [
            "10 years, 11 months and 20 days\n"
          ]
        }
      ]
    },
    {
      "cell_type": "code",
      "source": [
        "#task 9\n",
        "\n",
        "def capitalisor(word):\n",
        "\n",
        "  word = word.lower()\n",
        "\n",
        "  final_result = ''\n",
        "\n",
        "  i = 0\n",
        "  while i < len(word):\n",
        "\n",
        "    if i == 0:\n",
        "      final_result += word[i].upper()\n",
        "    else:\n",
        "\n",
        "      if (i+2) <len(word):\n",
        "\n",
        "        if word[i] == '.' or word[i] == '!' or word[i] == '?':\n",
        "\n",
        "          final_result += word[i] + word[i+1] + word[i+2].upper()\n",
        "\n",
        "          i += 2\n",
        "\n",
        "        elif ( word[i] + word[i+1] + word[i+2] ) == ' i ':\n",
        "\n",
        "          final_rseult += word[i] + word[i+1].upper() + word[i+2]\n",
        "          i += 2\n",
        "\n",
        "        else:\n",
        "          final_result += word[i]\n",
        "\n",
        "      else:\n",
        "\n",
        "        final_result += word[i]\n",
        "\n",
        "    i += 1\n",
        "\n",
        "  print(final_result)\n",
        "\n",
        "capitalisor(\"my favourite animal is a dog. a dog has sharp teeth so that it can eat flesh very easily. do you know my pet dog’s name? i love my pet very much.\")"
      ],
      "metadata": {
        "colab": {
          "base_uri": "https://localhost:8080/"
        },
        "id": "KYrcaONcogFw",
        "outputId": "b73709bc-b339-4e1e-a200-4bfdd5466218"
      },
      "execution_count": null,
      "outputs": [
        {
          "output_type": "stream",
          "name": "stdout",
          "text": [
            "My favourite animal is a dog. A dog has sharp teeth so that it can eat flesh very easily. Do you know my pet dog’s name? I love my pet very much.\n",
            "Ami\n"
          ]
        }
      ]
    }
  ]
}