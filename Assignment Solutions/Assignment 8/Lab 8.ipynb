{
  "nbformat": 4,
  "nbformat_minor": 0,
  "metadata": {
    "colab": {
      "provenance": []
    },
    "kernelspec": {
      "name": "python3",
      "display_name": "Python 3"
    },
    "language_info": {
      "name": "python"
    }
  },
  "cells": [
    {
      "cell_type": "markdown",
      "source": [
        "**Name:** Sk Md Saad Bin Sohan <br>\n",
        "**ID:** 22101704 <br>\n",
        "**CSE111 section:** 25 <br>\n",
        "**Assignment no:** 8"
      ],
      "metadata": {
        "id": "9sy2DuLe8_qP"
      }
    },
    {
      "cell_type": "code",
      "execution_count": null,
      "metadata": {
        "colab": {
          "base_uri": "https://localhost:8080/"
        },
        "id": "FcnuFLjJTFpE",
        "outputId": "8ab4513a-9d2f-4f8f-cec8-50a3c1c29735"
      },
      "outputs": [
        {
          "output_type": "stream",
          "name": "stdout",
          "text": [
            "RealPart: 1.0\n",
            "ImaginaryPart: 1.0\n",
            "---------\n",
            "RealPart: 5.0\n",
            "ImaginaryPart: 7.0\n"
          ]
        }
      ],
      "source": [
        "# Task 1\n",
        "\n",
        "class RealNumber:\n",
        "    \n",
        "    def __init__(self, r=0):\n",
        "        self.__realValue = r\n",
        "\n",
        "    def getRealValue(self):\n",
        "        return self.__realValue\n",
        "\n",
        "    def setRealValue(self, r):\n",
        "        self.__realValue = r\n",
        "\n",
        "    def __str__(self):\n",
        "        return 'RealPart: '+str(self.getRealValue())\n",
        "\n",
        "class ComplexNumber(RealNumber):\n",
        "\n",
        "    def __init__(self, real = 1.0, imag = 1.0):\n",
        "        super().setRealValue(real)\n",
        "        self.i = imag\n",
        "        \n",
        "    def __str__(self):\n",
        "        return 'RealPart: ' + str(float(self.getRealValue())) + '\\nImaginaryPart: ' + str(float(self.i))\n",
        "\n",
        "cn1 = ComplexNumber()\n",
        "print(cn1)\n",
        "print('---------')\n",
        "cn2 = ComplexNumber(5,7)\n",
        "print(cn2)"
      ]
    },
    {
      "cell_type": "code",
      "source": [
        "# Task 3\n",
        "\n",
        "class Account:\n",
        "\n",
        "  def __init__(self, balance):\n",
        "    self._balance = balance\n",
        "\n",
        "  def getBalance(self):\n",
        "    return self._balance\n",
        "    \n",
        "class CheckingAccount(Account):\n",
        "  numberOfAccount = 0\n",
        "\n",
        "  def __init__(self, balance = 0.0):\n",
        "    super().__init__(balance)\n",
        "    type(self).numberOfAccount += 1\n",
        "\n",
        "  def __str__(self):\n",
        "    return \"Account Balance: %.2f\" % self.getBalance()\n",
        "    \n",
        "print('Number of Checking Accounts: ', CheckingAccount.numberOfAccount)\n",
        "print(CheckingAccount())\n",
        "print(CheckingAccount(100.00))\n",
        "print(CheckingAccount(200.00))\n",
        "print('Number of Checking Accounts: ', CheckingAccount.numberOfAccount)"
      ],
      "metadata": {
        "colab": {
          "base_uri": "https://localhost:8080/"
        },
        "id": "Rp4gsBo_Ziz_",
        "outputId": "667be4a2-7bfe-4ded-b18f-52376adda337"
      },
      "execution_count": null,
      "outputs": [
        {
          "output_type": "stream",
          "name": "stdout",
          "text": [
            "Number of Checking Accounts:  0\n",
            "Account Balance: 0.00\n",
            "Account Balance: 100.00\n",
            "Account Balance: 200.00\n",
            "Number of Checking Accounts:  3\n"
          ]
        }
      ]
    },
    {
      "cell_type": "code",
      "source": [
        "# Task 4\n",
        "\n",
        "class Fruit:\n",
        "  def __init__(self, formalin=False, name=''):\n",
        "    self.__formalin = formalin\n",
        "    self.name = name\n",
        "  \n",
        "  def getName(self):\n",
        "    return self.name\n",
        "  \n",
        "  def hasFormalin(self):\n",
        "    return self.__formalin\n",
        "    \n",
        "class testFruit:\n",
        "\n",
        "  def test(self, f):\n",
        "    print('----Printing Detail----')\n",
        "\n",
        "    if f.hasFormalin():\n",
        "      print('Do not eat the',f.getName(),'.')\n",
        "      print(f)\n",
        "\n",
        "    else:\n",
        "      print('Eat the',f.getName(),'.')\n",
        "      print(f)\n",
        "\n",
        "class Mango(Fruit):\n",
        "\n",
        "  def __init__(self, formalin = True, name = 'Mango'):\n",
        "    super().__init__(formalin, name)\n",
        "\n",
        "  def __str__(self):\n",
        "\n",
        "    if self.hasFormalin():\n",
        "      return self.getName() + 's are bad for you'\n",
        "\n",
        "    else:\n",
        "      return self.getName() + 's are good for you'\n",
        "\n",
        "class Jackfruit(Fruit):\n",
        "\n",
        "  def __init__(self, formalin = False, name = \"Jackfruit\"):\n",
        "    super().__init__(formalin, name)\n",
        "\n",
        "  def __str__(self):\n",
        "\n",
        "    if self.hasFormalin():\n",
        "      return self.getName() + 's are bad for you'\n",
        "\n",
        "    else:\n",
        "      return self.getName() + 's are good for you'\n",
        "\n",
        "m = Mango()\n",
        "j = Jackfruit()\n",
        "t1 = testFruit()\n",
        "t1.test(m)\n",
        "t1.test(j)"
      ],
      "metadata": {
        "colab": {
          "base_uri": "https://localhost:8080/"
        },
        "id": "c9oOr7BvBNqd",
        "outputId": "2a5bb6e3-00e2-4c68-dd77-220ddd3554f1"
      },
      "execution_count": null,
      "outputs": [
        {
          "output_type": "stream",
          "name": "stdout",
          "text": [
            "----Printing Detail----\n",
            "Do not eat the Mango .\n",
            "Mangos are bad for you\n",
            "----Printing Detail----\n",
            "Eat the Jackfruit .\n",
            "Jackfruits are good for you\n"
          ]
        }
      ]
    },
    {
      "cell_type": "code",
      "source": [
        "# Task 5\n",
        "\n",
        "class Exam:\n",
        "  def __init__(self,marks):\n",
        "    self.marks = marks\n",
        "    self.time = 60\n",
        "\n",
        "  def examSyllabus(self):\n",
        "    return \"Maths , English\"\n",
        "\n",
        "  def examParts(self):\n",
        "    return \"Part 1 - Maths\\nPart 2 - English\\n\"\n",
        "    \n",
        "class ScienceExam(Exam):\n",
        "  def __init__(self, marks, time, *subjects):\n",
        "    super().__init__(marks)\n",
        "    \n",
        "    self.time = time\n",
        "    self.subjects = subjects\n",
        "\n",
        "  def examSyllabus(self):\n",
        "    return super().examSyllabus() + \", \" + \" , \".join(list(self.subjects))\n",
        "\n",
        "  def examParts(self):\n",
        "    result = \"\"\n",
        "    for i in range(0, len(self.subjects)):\n",
        "      if i == len(self.subjects) - 1:\n",
        "        result += f\"Part {(i+3)} - {self.subjects[i]}\"\n",
        "      else:\n",
        "        result += f\"Part {str(i+3)} - {self.subjects[i]}\\n\"\n",
        "    return super().examParts() + result\n",
        "  def __str__(self):\n",
        "      return f\"Marks: {self.marks} Time: {self.time} minutes Number of Parts: {2+len(self.subjects)}\"\n",
        "\n",
        "engineering = ScienceExam(100,90,\"Physics\",\"HigherMaths\")\n",
        "print(engineering)\n",
        "print('----------------------------------')\n",
        "print(engineering.examSyllabus())\n",
        "print(engineering.examParts())\n",
        "print('==================================') \n",
        "architecture = ScienceExam(100,120,\"Physics\",\"HigherMaths\",\"Drawing\")\n",
        "print(architecture)\n",
        "print('----------------------------------')\n",
        "print(architecture.examSyllabus())\n",
        "print(architecture.examParts())"
      ],
      "metadata": {
        "colab": {
          "base_uri": "https://localhost:8080/"
        },
        "id": "U_7w6kpcdD5x",
        "outputId": "51ed4fbd-3f4a-4c5b-86e6-92b43629f0fb"
      },
      "execution_count": null,
      "outputs": [
        {
          "output_type": "stream",
          "name": "stdout",
          "text": [
            "Marks: 100 Time: 90 minutes Number of Parts: 4\n",
            "----------------------------------\n",
            "Maths , English, Physics , HigherMaths\n",
            "Part 1 - Maths\n",
            "Part 2 - English\n",
            "Part 3 - Physics\n",
            "Part 4 - HigherMaths\n",
            "==================================\n",
            "Marks: 100 Time: 120 minutes Number of Parts: 5\n",
            "----------------------------------\n",
            "Maths , English, Physics , HigherMaths , Drawing\n",
            "Part 1 - Maths\n",
            "Part 2 - English\n",
            "Part 3 - Physics\n",
            "Part 4 - HigherMaths\n",
            "Part 5 - Drawing\n"
          ]
        }
      ]
    },
    {
      "cell_type": "code",
      "source": [
        "# Task 6\n",
        "\n",
        "class Shape3D:\n",
        "  pi = 3.14159\n",
        "\n",
        "  def __init__(self, name = 'Default', radius = 0):\n",
        "    self._area = 0\n",
        "    self._name = name\n",
        "    self._height = 'No need'\n",
        "    self._radius = radius   \n",
        "\n",
        "  def calc_surface_area(self):\n",
        "    return 2 * Shape3D.pi * self._radius\n",
        "\n",
        "  def __str__(self):\n",
        "    return \"Radius: \"+str(self._radius)\n",
        "\n",
        "class Sphere(Shape3D):\n",
        "\n",
        "  def __init__(self, name, radius):\n",
        "    super().__init__(name, radius)\n",
        "    print(\"Shape name: Sphere, Area Formula: 4 * pi * r * r\")\n",
        "\n",
        "  def calc_surface_area(self):\n",
        "    self._area = 4 * Shape3D.pi * self._radius**2\n",
        "\n",
        "  def __str__(self):\n",
        "    return f\"Radius: {self._radius}, Height: {self._height}\\nArea: {self._area}\"\n",
        "\n",
        "class Cylinder(Shape3D):\n",
        "  \n",
        "  def __init__(self, name, radius, height):\n",
        "    super().__init__(name, radius)\n",
        "    self._height = height\n",
        "    print(f\"Shape name: {self._name}, Area Formula: 2 * pi * r * (r + h)\")\n",
        "\n",
        "  def calc_surface_area(self):\n",
        "    self._area = 2 * Shape3D.pi * self._radius *\\\n",
        "      (self._radius + self._height)\n",
        "    return self._area\n",
        "\n",
        "  def __str__(self):\n",
        "    return f\"Radius: {self._radius}, Height: {self._height}\" +\\\n",
        "    f\"\\nArea: {self._area}\"\n",
        "\n",
        "sph = Sphere('Sphere', 5)\n",
        "print('----------------------------------')\n",
        "sph.calc_surface_area()\n",
        "print(sph)\n",
        "print('==================================')\n",
        "cyl = Cylinder('Cylinder', 5, 10)\n",
        "print('----------------------------------')\n",
        "cyl.calc_surface_area()\n",
        "print(cyl)"
      ],
      "metadata": {
        "colab": {
          "base_uri": "https://localhost:8080/"
        },
        "id": "HGg6kXVtlWBR",
        "outputId": "e9c7afeb-732b-457e-9556-20b2701a162e"
      },
      "execution_count": null,
      "outputs": [
        {
          "output_type": "stream",
          "name": "stdout",
          "text": [
            "Shape name: Sphere, Area Formula: 4 * pi * r * r\n",
            "----------------------------------\n",
            "Radius: 5, Height: No need\n",
            "Area: 314.159\n",
            "==================================\n",
            "Shape name: Cylinder, Area Formula: 2 * pi * r * (r + h)\n",
            "----------------------------------\n",
            "Radius: 5, Height: 10\n",
            "Area: 471.2385\n"
          ]
        }
      ]
    },
    {
      "cell_type": "code",
      "source": [
        "# Task 7\n",
        "\n",
        "class PokemonBasic:\n",
        "\n",
        "  def __init__(self, name = 'Default', hp = 0, weakness = 'None', type = 'Unknown'):\n",
        "    self.name = name\n",
        "    self.hit_point = hp\n",
        "    self.weakness = weakness\n",
        "    self.type = type\n",
        "\n",
        "  def get_type(self):\n",
        "    return 'Main type: ' + self.type\n",
        "\n",
        "  def get_move(self):\n",
        "    return 'Basic move: ' + 'Quick Attack'\n",
        "\n",
        "  def __str__(self):\n",
        "    return \"Name: \" + self.name + \", HP: \" + str(self.hit_point) + \", Weakness: \" + self.weakness\n",
        "\n",
        "class PokemonExtra(PokemonBasic):\n",
        "  def __init__(self, name, hp, weakness, type_1, type_2 = None, other_move = None):\n",
        "    super().__init__(name, hp, weakness, type_1)\n",
        "    self.type_2 = type_2\n",
        "    self.other_move = other_move\n",
        "  def get_type(self):\n",
        "    if self.type_2 == None:\n",
        "      return super().get_type()\n",
        "    else:\n",
        "      return super().get_type() + f\", Secondary type: {self.type_2}\"\n",
        "\n",
        "  def get_move(self):\n",
        "\n",
        "    if self.other_move == None:\n",
        "      return super().get_move()\n",
        "\n",
        "    else:\n",
        "      return f\"{super().get_move()}\\nOther move: {', '.join(list(self.other_move))}\"\n",
        "\n",
        "print('\\n------------Basic Info:--------------')\n",
        "pk = PokemonBasic()\n",
        "print(pk)\n",
        "print(pk.get_type())\n",
        "print(pk.get_move())\n",
        "\n",
        "print('\\n------------Pokemon 1 Info:-------------')\n",
        "charmander = PokemonExtra('Charmander', 39, 'Water', 'Fire')\n",
        "print(charmander)\n",
        "print(charmander.get_type())\n",
        "print(charmander.get_move())\n",
        "\n",
        "print('\\n------------Pokemon 2 Info:-------------')\n",
        "charizard = PokemonExtra('Charizard', 78, 'Water', 'Fire', 'Flying', ('Fire Spin', 'Fire Blaze'))\n",
        "print(charizard)\n",
        "print(charizard.get_type())\n",
        "print(charizard.get_move())\n"
      ],
      "metadata": {
        "colab": {
          "base_uri": "https://localhost:8080/"
        },
        "id": "lSp9ShSqpWw5",
        "outputId": "ab90a6bf-9517-4b4d-d49c-b5e0f7b98bf4"
      },
      "execution_count": null,
      "outputs": [
        {
          "output_type": "stream",
          "name": "stdout",
          "text": [
            "\n",
            "------------Basic Info:--------------\n",
            "Name: Default, HP: 0, Weakness: None\n",
            "Main type: Unknown\n",
            "Basic move: Quick Attack\n",
            "\n",
            "------------Pokemon 1 Info:-------------\n",
            "Name: Charmander, HP: 39, Weakness: Water\n",
            "Main type: Fire\n",
            "Basic move: Quick Attack\n",
            "\n",
            "------------Pokemon 2 Info:-------------\n",
            "Name: Charizard, HP: 78, Weakness: Water\n",
            "Main type: Fire, Secondary type: Flying\n",
            "Basic move: Quick Attack\n",
            "Other move: Fire Spin, Fire Blaze\n"
          ]
        }
      ]
    },
    {
      "cell_type": "code",
      "source": [
        "# Task 8\n",
        "\n",
        "class Team:\n",
        "\n",
        "    def __init__(self, name):\n",
        "        self.name = \"default\"\n",
        "        self.total_player = 5\n",
        "    def info(self):\n",
        "        print(\"We love sports\")\n",
        "\n",
        "class FootBallTeam(Team):\n",
        "    def __init__(self, name):\n",
        "        super().__init__(name)\n",
        "        self.name = name\n",
        "        self.total_player = 11\n",
        "    def info(self):\n",
        "        print(f\"Our name is {self.name}\")\n",
        "        print(\"We play Football\")\n",
        "        super().info()\n",
        "\n",
        "class CricketTeam(Team):\n",
        "    def __init__(self, name):\n",
        "        super().__init__(name)\n",
        "        self.name = name\n",
        "        self.total_player = 11\n",
        "    def info(self):\n",
        "        print(f\"Our name is {self.name}\")\n",
        "        print(\"We play Cricket\")\n",
        "        print(\"We love sports\")\n",
        "\n",
        "class Team_test:\n",
        "    def check(self, tm):\n",
        "        print(\"=========================\")\n",
        "        print(\"Total Player: \", tm.total_player)\n",
        "        tm.info()\n",
        "\n",
        "f = FootBallTeam(\"Brazil\")\n",
        "c = CricketTeam(\"Bangladesh\")\n",
        "test = Team_test()\n",
        "test.check(f)\n",
        "test.check(c)\n"
      ],
      "metadata": {
        "colab": {
          "base_uri": "https://localhost:8080/"
        },
        "id": "neuWqzWWsZLa",
        "outputId": "b4cbb8cd-a7b7-46c8-c5a9-ce8b59e57be9"
      },
      "execution_count": null,
      "outputs": [
        {
          "output_type": "stream",
          "name": "stdout",
          "text": [
            "=========================\n",
            "Total Player:  11\n",
            "Our name is Brazil\n",
            "We play Football\n",
            "We love sports\n",
            "=========================\n",
            "Total Player:  11\n",
            "Our name is Bangladesh\n",
            "We play Cricket\n",
            "We love sports\n"
          ]
        }
      ]
    },
    {
      "cell_type": "code",
      "source": [
        "# Task 9\n",
        "\n",
        "class Pokemon:\n",
        "\n",
        "    def __init__(self, p):\n",
        "        self.pokemon = p\n",
        "        self.pokemon_type = \"Needs to be set\"\n",
        "        self.pokemon_weakness = \"Needs to be set\"\n",
        "    def kind(self):\n",
        "        return self.pokemon_type     \n",
        "    def weakness(self):\n",
        "        return self.pokemon_weakness \n",
        "    def what_am_i(self):\n",
        "        print(\"I am a Pokemon.\")\n",
        "\n",
        "class Pikachu(Pokemon):\n",
        "    def __init__(self, pokemon = \"Pikachu\"):\n",
        "        super().__init__(pokemon)\n",
        "        self.pokemon_type = \"Electric\"\n",
        "        self.pokemon_weakness = \"Ground\"\n",
        "    def what_am_i(self):\n",
        "        super().what_am_i()\n",
        "        print(\"I am Pikachu.\")\n",
        "\n",
        "class Charmander(Pokemon):\n",
        "    def __init__(self, pokemon = \"Charmander\"):\n",
        "        super().__init__(pokemon)\n",
        "        self.pokemon_type = \"Fire\"\n",
        "        self.pokemon_weakness = \"Water, Ground and Rock\"\n",
        "    def what_am_i(self):\n",
        "        super().what_am_i()\n",
        "        print(\"I am Charmander.\")\n",
        "\n",
        "pk1 = Pikachu()\n",
        "print(\"Pokemon:\", pk1.pokemon)\n",
        "print(\"Type:\", pk1.kind())\n",
        "print(\"Weakness:\", pk1.weakness())\n",
        "pk1.what_am_i()\n",
        "print(\"========================\")\n",
        "c1 = Charmander()\n",
        "print(\"Pokemon:\", c1.pokemon)\n",
        "print(\"Type:\", c1.kind())\n",
        "print(\"Weakness:\", c1.weakness())\n",
        "c1.what_am_i()\n"
      ],
      "metadata": {
        "colab": {
          "base_uri": "https://localhost:8080/"
        },
        "id": "tvxExguEtwSm",
        "outputId": "6d38c483-0815-416d-b0f5-13a32e7f4a99"
      },
      "execution_count": null,
      "outputs": [
        {
          "output_type": "stream",
          "name": "stdout",
          "text": [
            "Pokemon: Pikachu\n",
            "Type: Electric\n",
            "Weakness: Ground\n",
            "I am a Pokemon.\n",
            "I am Pikachu.\n",
            "========================\n",
            "Pokemon: Charmander\n",
            "Type: Fire\n",
            "Weakness: Water, Ground and Rock\n",
            "I am a Pokemon.\n",
            "I am Charmander.\n"
          ]
        }
      ]
    },
    {
      "cell_type": "code",
      "source": [
        "#Task 10\n",
        "\n",
        "class Department:\n",
        "    def __init__(self, s):\n",
        "        self.semester = s\n",
        "        self.name = \"Default\"\n",
        "        self.id = -1\n",
        "        \n",
        "    def student_info(self):\n",
        "        print(\"Name:\", self.name)\n",
        "        print(\"ID:\", self.id) \n",
        "        \n",
        "    def courses(self, c1, c2, c3):\n",
        "        print(\"No courses Approved yet!\")\n",
        "\n",
        "class CSE(Department):\n",
        "    def __init__(self, name, id, semester):\n",
        "        super().__init__(semester)\n",
        "        self.name = name\n",
        "        self.id = id\n",
        "\n",
        "    def courses(self, c1, c2, c3):\n",
        "        print(f\"Courses Approved to this CSE student in {self.semester} semester:\")\n",
        "        print(\"\\n\".join((c1, c2, c3)))\n",
        "\n",
        "class EEE(Department):\n",
        "    def __init__(self, name, id, semester):\n",
        "        super().__init__(semester)\n",
        "        self.name = name\n",
        "        self.id = id\n",
        "\n",
        "    def courses(self, c1, c2, c3):\n",
        "        print(f\"Courses Approved to this EEE student in {self.semester} semester:\")\n",
        "        print(\"\\n\".join((c1, c2, c3)))\n",
        "\n",
        "s1 = CSE(\"Rahim\", 16101328,\"Spring2016\")\n",
        "s1.student_info()\n",
        "s1.courses(\"CSE110\", \"MAT110\", \"ENG101\")\n",
        "print(\"==================\")\n",
        "s2 = EEE(\"Tanzim\", 18101326, \"Spring2018\")\n",
        "s2.student_info()\n",
        "s2.courses(\"Mat110\", \"PHY111\", \"ENG101\")\n",
        "print(\"==================\")\n",
        "s3 = CSE(\"Rudana\", 18101326, \"Fall2017\")\n",
        "s3.student_info()\n",
        "s3.courses(\"CSE111\", \"PHY101\", \"MAT120\")\n",
        "print(\"==================\")\n",
        "s4 = EEE(\"Zainab\", 19201623, \"Summer2019\")\n",
        "s4.student_info()\n",
        "s4.courses(\"EEE201\", \"PHY112\", \"MAT120\")\n"
      ],
      "metadata": {
        "colab": {
          "base_uri": "https://localhost:8080/"
        },
        "id": "WjVqxH7KjqWM",
        "outputId": "1528c8c1-e4a4-410d-eb4f-0263d9e5605b"
      },
      "execution_count": null,
      "outputs": [
        {
          "output_type": "stream",
          "name": "stdout",
          "text": [
            "Name: Rahim\n",
            "ID: 16101328\n",
            "Courses Approved to this CSE student in Spring2016 semester:\n",
            "CSE110\n",
            "MAT110\n",
            "ENG101\n",
            "==================\n",
            "Name: Tanzim\n",
            "ID: 18101326\n",
            "Courses Approved to this EEE student in Spring2018 semester:\n",
            "Mat110\n",
            "PHY111\n",
            "ENG101\n",
            "==================\n",
            "Name: Rudana\n",
            "ID: 18101326\n",
            "Courses Approved to this CSE student in Fall2017 semester:\n",
            "CSE111\n",
            "PHY101\n",
            "MAT120\n",
            "==================\n",
            "Name: Zainab\n",
            "ID: 19201623\n",
            "Courses Approved to this EEE student in Summer2019 semester:\n",
            "EEE201\n",
            "PHY112\n",
            "MAT120\n"
          ]
        }
      ]
    }
  ]
}