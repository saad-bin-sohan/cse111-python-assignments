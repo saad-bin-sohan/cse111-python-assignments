{
  "nbformat": 4,
  "nbformat_minor": 0,
  "metadata": {
    "colab": {
      "provenance": []
    },
    "kernelspec": {
      "name": "python3",
      "display_name": "Python 3"
    },
    "language_info": {
      "name": "python"
    }
  },
  "cells": [
    {
      "cell_type": "code",
      "source": [
        "#task 1\n",
        "\n",
        "class Student:\n",
        "    def __init__(self, name='Just a student', dept='nothing'):\n",
        "        self.__name = name\n",
        "        self.__department = dept\n",
        "    def set_department(self, dept):\n",
        "        self.__department = dept\n",
        "    def get_name(self):\n",
        "        return self.__name\n",
        "    def set_name(self,name):\n",
        "        self.__name = name\n",
        "    def __str__(self):\n",
        "        return 'Name: '+self.__name+' Department: '+self.__department\n",
        "\n",
        "#write your code here\n",
        "\n",
        "class BBA_Student(Student):\n",
        "    def __init__(self, name=\"Just a student\"):\n",
        "        super().__init__(name, \"BBA\")\n",
        "        \n",
        "print(BBA_Student())\n",
        "print(BBA_Student(\"Humpty Dumpty\"))\n",
        "print(BBA_Student(\"Little Bo Peep\"))"
      ],
      "metadata": {
        "colab": {
          "base_uri": "https://localhost:8080/"
        },
        "id": "HCiDgltHLUjZ",
        "outputId": "50d5bb68-f904-442e-99a4-f2a332ee5c6b"
      },
      "execution_count": null,
      "outputs": [
        {
          "output_type": "stream",
          "name": "stdout",
          "text": [
            "Name: Just a student Department: BBA\n",
            "Name: Humpty Dumpty Department: BBA\n",
            "Name: Little Bo Peep Department: BBA\n"
          ]
        }
      ]
    },
    {
      "cell_type": "code",
      "source": [
        "#task 2\n",
        "\n",
        "class Vehicle:\n",
        "    def __init__(self):\n",
        "        self.x = 0\n",
        "        self.y = 0\n",
        "    def moveUp(self):\n",
        "        self.y += 1\n",
        "    def moveDown(self):\n",
        "        self.y -= 1\n",
        "    def moveRight(self):\n",
        "        self.x += 1\n",
        "    def moveLeft(self):\n",
        "        self.x -= 1\n",
        "    def __str__(self):\n",
        "        return \"(\"+str(self.x)+\" , \"+str(self.y)+\")\"\n",
        "#write your code here\n",
        "\n",
        "class Vehicle2010(Vehicle):\n",
        "    def moveLowerLeft(self):\n",
        "        self.moveDown()\n",
        "        self.moveLeft()\n",
        "    \n",
        "    def equals(self, other):\n",
        "        if self.x == other.x and self.y == other.y:\n",
        "            return True\n",
        "        else:\n",
        "            return False\n",
        "\n",
        "    def moveDown(self):\n",
        "      self.y -= 1\n",
        "\n",
        "    def moveLeft(self):\n",
        "      self.x -= 1\n",
        "\n",
        "print(\"Part 1\")\n",
        "print(\"------\")\n",
        "car = Vehicle()\n",
        "print(car)\n",
        "car.moveUp()\n",
        "print(car)\n",
        "car.moveLeft()\n",
        "print(car)\n",
        "car.moveDown()\n",
        "print(car)\n",
        "car.moveRight()\n",
        "print(car)\n",
        "print(\"------\")\n",
        "print(\"Part 2\")\n",
        "print(\"------\")\n",
        "car1 = Vehicle2010()\n",
        "print(car1)\n",
        "car1.moveLowerLeft()\n",
        "print(car1)\n",
        "car2 = Vehicle2010()\n",
        "car2.moveLeft()\n",
        "print(car1.equals(car2))\n",
        "car2.moveDown()\n",
        "print( car1.equals(car2) )\n"
      ],
      "metadata": {
        "colab": {
          "base_uri": "https://localhost:8080/"
        },
        "id": "tJRgr9SB9J8Z",
        "outputId": "c1b24a73-d77a-4533-ce7d-2166d083db44"
      },
      "execution_count": null,
      "outputs": [
        {
          "output_type": "stream",
          "name": "stdout",
          "text": [
            "Part 1\n",
            "------\n",
            "(0 , 0)\n",
            "(0 , 1)\n",
            "(-1 , 1)\n",
            "(-1 , 0)\n",
            "(0 , 0)\n",
            "------\n",
            "Part 2\n",
            "------\n",
            "(0 , 0)\n",
            "(-1 , -1)\n",
            "False\n",
            "True\n"
          ]
        }
      ]
    },
    {
      "cell_type": "code",
      "source": [
        "#task 3\n",
        "\n",
        "class Tournament:\n",
        "    def __init__(self,name='Default'):\n",
        "        self.name = name\n",
        "    def set_name(self,name):\n",
        "        self.name = name\n",
        "    def get_name(self):\n",
        "        return self.name\n",
        "\n",
        "class Cricket_Tournament(Tournament):\n",
        "    def __init__(self, name='Default', num_teams=0, type='No type'):\n",
        "        super().__init__(name)\n",
        "        self.num_teams = num_teams\n",
        "        self.type_ = type\n",
        "\n",
        "    def detail(self):\n",
        "        return f'Cricket Tournament Name: {self.get_name()}\\nNumber of Teams: {self.num_teams}\\nType: {self.type_}'\n",
        "\n",
        "class Tennis_Tournament(Tournament):\n",
        "    def __init__(self, name='Default', num_players=0):\n",
        "        super().__init__(name)\n",
        "        self.num_players = num_players\n",
        "\n",
        "    def detail(self):\n",
        "        return f'Tennis Tournament Name: {self.get_name()} Number of Players: {self.num_players}'\n",
        "ct1 = Cricket_Tournament()\n",
        "\n",
        "#write your code here\n",
        "\n",
        "ct1 = Cricket_Tournament()\n",
        "print(ct1.detail())\n",
        "print(\"-----------------------\")\n",
        "ct2 = Cricket_Tournament(\"IPL\",10,\"t20\")\n",
        "print(ct2.detail())\n",
        "print(\"-----------------------\")\n",
        "tt = Tennis_Tournament(\"Roland Garros\",128)\n",
        "print(tt.detail())\n",
        "\n",
        "print(ct1.detail())\n",
        "print(\"-----------------------\")\n",
        "ct2 = Cricket_Tournament(\"IPL\",10,\"t20\")\n",
        "print(ct2.detail())\n",
        "print(\"-----------------------\")\n",
        "tt = Tennis_Tournament(\"Roland Garros\",128)\n",
        "print(tt.detail())"
      ],
      "metadata": {
        "colab": {
          "base_uri": "https://localhost:8080/"
        },
        "id": "6yN10vXP9b0T",
        "outputId": "6a08d306-a750-405a-e7b8-5a78c82da191"
      },
      "execution_count": null,
      "outputs": [
        {
          "output_type": "stream",
          "name": "stdout",
          "text": [
            "Cricket Tournament Name: Default\n",
            "Number of Teams: 0\n",
            "Type: No type\n",
            "-----------------------\n",
            "Cricket Tournament Name: IPL\n",
            "Number of Teams: 10\n",
            "Type: t20\n",
            "-----------------------\n",
            "Tennis Tournament Name: Roland Garros Number of Players: 128\n",
            "Cricket Tournament Name: Default\n",
            "Number of Teams: 0\n",
            "Type: No type\n",
            "-----------------------\n",
            "Cricket Tournament Name: IPL\n",
            "Number of Teams: 10\n",
            "Type: t20\n",
            "-----------------------\n",
            "Tennis Tournament Name: Roland Garros Number of Players: 128\n"
          ]
        }
      ]
    },
    {
      "cell_type": "code",
      "source": [
        "#task 4\n",
        "\n",
        "class Product:\n",
        "    def __init__(self,id, title, price):\n",
        "        self.id = id\n",
        "        self.title = title\n",
        "        self.price = price\n",
        "    def get_id_title_price(self):\n",
        "        return \"ID: \"+str(self.id)+\" Title: \"+self.title + \" Price: \" + str(self.price)\n",
        "\n",
        "class Book(Product):\n",
        "    def __init__(self, id, title, price, isbn, publisher):\n",
        "        super().__init__(id, title, price)\n",
        "        self.isbn = isbn\n",
        "        self.publisher = publisher\n",
        "        \n",
        "    def printDetail(self):\n",
        "        return super().get_id_title_price() + \" ISBN: \" + self.isbn + \" Publisher: \" + self.publisher\n",
        "\n",
        "class CD(Product):\n",
        "    def __init__(self, id, title, price, band, duration, genre):\n",
        "        super().__init__(id, title, price)\n",
        "        self.band = band\n",
        "        self.duration = duration\n",
        "        self.genre = genre\n",
        "        \n",
        "    def printDetail(self):\n",
        "        return f\"{super().get_id_title_price()}\\nBand: {self.band} Duration: {str(self.duration)} minutes Genre: {self.genre}\"\n",
        "\n",
        "#write your code here\n",
        "\n",
        "book = Book(1,\"The Alchemist\",500,\"97806\",\"HarperCollins\")\n",
        "print(book.printDetail())\n",
        "print(\"-----------------------\")\n",
        "cd = CD(2,\"Shotto\",300,\"Warfaze\",50,\"Hard Rock\")\n",
        "print(cd.printDetail())"
      ],
      "metadata": {
        "colab": {
          "base_uri": "https://localhost:8080/"
        },
        "id": "LaI9EELr-uR1",
        "outputId": "ab15f9b5-caa1-4b05-f332-f6ae093e2dad"
      },
      "execution_count": null,
      "outputs": [
        {
          "output_type": "stream",
          "name": "stdout",
          "text": [
            "ID: 1 Title: The Alchemist Price: 500 ISBN: 97806 Publisher: HarperCollins\n",
            "-----------------------\n",
            "ID: 2 Title: Shotto Price: 300\n",
            "Band: Warfaze Duration: 50 minutes Genre: Hard Rock\n"
          ]
        }
      ]
    },
    {
      "cell_type": "code",
      "source": [
        "#task 5\n",
        "\n",
        "class Animal:   \n",
        "    def __init__(self,sound):\n",
        "        self.sound = sound\n",
        "        \n",
        "    def makeSound(self):\n",
        "        return self.sound\n",
        "\n",
        "class Printer:   \n",
        "    def printSound(self, a):\n",
        "        print(a.makeSound())\n",
        "\n",
        "#write your code here\n",
        "\n",
        "class Dog(Animal):\n",
        "    def __init__(self, sound):\n",
        "        super().__init__(sound)\n",
        "\n",
        "class Cat(Animal):\n",
        "    def __init__(self, sound):\n",
        "        super().__init__(sound)\n",
        "\n",
        "d1 = Dog('bark')\n",
        "c1 = Cat('meow')\n",
        "a1 = Animal('Animal does not make sound')\n",
        "pr = Printer()\n",
        "pr.printSound(a1)\n",
        "pr.printSound(c1)\n",
        "pr.printSound(d1)"
      ],
      "metadata": {
        "colab": {
          "base_uri": "https://localhost:8080/"
        },
        "id": "YO_bPBa5_z3-",
        "outputId": "eb8adb2f-3f3f-4607-9156-ab3df63e6768"
      },
      "execution_count": null,
      "outputs": [
        {
          "output_type": "stream",
          "name": "stdout",
          "text": [
            "Animal does not make sound\n",
            "meow\n",
            "bark\n"
          ]
        }
      ]
    },
    {
      "cell_type": "code",
      "source": [
        "#task 6\n",
        "class Shape:\n",
        "    def __init__(self, name='Default', height=0, base=0):\n",
        "        self.area = 0\n",
        "        self.name = name\n",
        "        self.height = height\n",
        "        self.base = base\n",
        "\n",
        "    def get_height_base(self):\n",
        "        return \"Height: \"+str(self.height)+\", Base: \"+str(self.base)\n",
        "\n",
        "class Triangle(Shape):\n",
        "    def calcArea(self):\n",
        "        self.area = 0.5 * self.base * self.height\n",
        "\n",
        "    def printDetail(self):\n",
        "        return \"Shape name: {}\\n{}, Area: {}\\n\".format(self.name, super().get_height_base(), self.area)\n",
        "\n",
        "class trapezoid(Shape):\n",
        "    def __init__(self, name, height, base, side_a):\n",
        "        super().__init__(name, height, base)\n",
        "        self.side_a = side_a\n",
        "\n",
        "    def calcArea(self):\n",
        "        self.area = 0.5 * (self.base + self.side_a) * self.height\n",
        "\n",
        "    def get_height_base(self):\n",
        "        return \"Height: {}, Base: {}, Side_A: {}\".format(self.height, self.base, self.side_a)\n",
        "\n",
        "    def printDetail(self):\n",
        "        return \"Shape name: {}\\n{}, Area: {}\\n\".format(self.name, super.get_height_base(), self.area)\n",
        "\n",
        "tri_default = Triangle()\n",
        "tri_default.calcArea()\n",
        "print(tri_default.printDetail())\n",
        "print('--------------------------')\n",
        "tri = Triangle('Triangle', 10, 5)\n",
        "tri.calcArea()\n",
        "print(tri.printDetail())\n",
        "print('---------------------------')\n",
        "trap = Trapezoid('Trapezoid', 10, 6, 4)\n",
        "trap.calcArea()\n",
        "print(trap.printDetail())\n",
        "\n",
        "tri_default = triangle()\n",
        "tri_default.calcArea()\n",
        "print(tri_default.printDetail())\n",
        "print('--------------------------')\n",
        "tri = triangle('Triangle', 10, 5)\n",
        "tri.calcArea()\n",
        "print(tri.printDetail())\n",
        "print('---------------------------')\n",
        "trap = trapezoid('Trapezoid', 10, 6, 4)\n",
        "trap.calcArea()\n",
        "print(trap.printDetail())\n"
      ],
      "metadata": {
        "colab": {
          "base_uri": "https://localhost:8080/"
        },
        "id": "ZShPAQ8fAQyz",
        "outputId": "3b45d31b-d005-4509-fa04-5511b6700d41"
      },
      "execution_count": null,
      "outputs": [
        {
          "output_type": "stream",
          "name": "stdout",
          "text": [
            "Shape name: Default\n",
            "Height: 0, Base: 0, Area: 0.0\n",
            "\n",
            "--------------------------\n",
            "Shape name: Triangle\n",
            "Height: 10, Base: 5, Area: 25.0\n",
            "\n",
            "---------------------------\n",
            "Shape name: Trapezoid\n",
            "Height: 10, Base: 6, Side_A: 4, Area: 50.0\n",
            "\n",
            "Shape name: Default\n",
            "Height: 0, Base: 0, Area: 0.0\n",
            "\n",
            "--------------------------\n",
            "Shape name: Triangle\n",
            "Height: 10, Base: 5, Area: 25.0\n",
            "\n",
            "---------------------------\n",
            "Shape name: Trapezoid\n",
            "Height: 10, Base: 6, Side_A: 4, Area: 50.0\n",
            "\n"
          ]
        }
      ]
    },
    {
      "cell_type": "code",
      "source": [
        "#task 7\n",
        "\n",
        "class SportsPerson:\n",
        "\n",
        "  def __init__(self, team_name, name, role):\n",
        "    self.team = team_name\n",
        "    self.name = name\n",
        "    self.role = role\n",
        "    self.earning_per_match = 0\n",
        "\n",
        "  def get_name_team(self):\n",
        "    return 'Name: '+self.name+', Team Name: ' +self.team\n",
        "\n",
        "#write your code here\n",
        "\n",
        "class Player(SportsPerson):\n",
        "  def __init__(self, tm, nm, rol, gl_c, played):\n",
        "    super().__init__(tm, nm, rol)\n",
        "    self.gl_c = gl_c\n",
        "    self.played = played\n",
        "    self.ratio = 0\n",
        "  \n",
        "  def calculate_ratio(self):\n",
        "    self.ratio = self.gl_c/self.played\n",
        "    self.earning_per_match = (self.gl_c * 1000) + (self.played * 10)\n",
        "  \n",
        "  def print_details(self):\n",
        "    print(f\"Name: {super().get_name_team()}\")\n",
        "    print(f\"Total Goal: {self.gl_c}, Total Played: {self.played}\")\n",
        "    print(f\"{self.ratio}\\nMatch Earning: {self.earning_per_match}K\")\n",
        "\n",
        "class Manager(SportsPerson):\n",
        "  \n",
        "  def __init__(self, tm, nm, prof, win):\n",
        "    super().__init__(tm, nm, prof)\n",
        "    self.win = win\n",
        "\n",
        "  def print_details(self):\n",
        "    print(self.get_name_team())\n",
        "    print(f\"Total win: {self.win}\")\n",
        "    print(f\"Match Earning: {self.win * 1000}K\")\n",
        "\n",
        "\n",
        "player_one = Player('Juventus', 'Ronaldo', 'Striker', 25, 32)\n",
        "player_one.calculate_ratio()\n",
        "player_one.print_details()\n",
        "print('------------------------------------------')\n",
        "manager_one = Manager('Real Madrid', 'Zidane', 'Manager', 25)\n",
        "manager_one.print_details()"
      ],
      "metadata": {
        "colab": {
          "base_uri": "https://localhost:8080/"
        },
        "id": "MmzItTsfCIQe",
        "outputId": "29e276bf-1633-4647-c5f3-b6096fbbe5d9"
      },
      "execution_count": null,
      "outputs": [
        {
          "output_type": "stream",
          "name": "stdout",
          "text": [
            "Name: Name: Ronaldo, Team Name: Juventus\n",
            "Total Goal: 25, Total Played: 32\n",
            "0.78125\n",
            "Match Earning: 25320K\n",
            "------------------------------------------\n",
            "Name: Zidane, Team Name: Real Madrid\n",
            "Total win: 25\n",
            "Match Earning: 25000K\n"
          ]
        }
      ]
    }
  ]
}