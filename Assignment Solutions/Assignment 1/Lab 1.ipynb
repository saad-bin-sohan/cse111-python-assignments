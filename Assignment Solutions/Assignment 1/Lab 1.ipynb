{
  "nbformat": 4,
  "nbformat_minor": 0,
  "metadata": {
    "colab": {
      "provenance": []
    },
    "kernelspec": {
      "name": "python3",
      "display_name": "Python 3"
    },
    "language_info": {
      "name": "python"
    }
  },
  "cells": [
    {
      "cell_type": "code",
      "execution_count": null,
      "metadata": {
        "colab": {
          "base_uri": "https://localhost:8080/"
        },
        "id": "FZf13nUZK2Qe",
        "outputId": "efc7650f-da18-41c3-85c5-11fb606a5c02"
      },
      "outputs": [
        {
          "output_type": "stream",
          "name": "stdout",
          "text": [
            "Enter your word: BaNaNa\n",
            "banana\n"
          ]
        }
      ],
      "source": [
        "#string task 1\n",
        "\n",
        "word = input('Enter your word: ')\n",
        "upper_count = 0\n",
        "lower_count  = 0\n",
        "\n",
        "for char in word:\n",
        "  if 97 <= ord(char) <= 122:\n",
        "    lower_count += 1\n",
        "  elif 65 <= ord(char) <= 90:\n",
        "    upper_count += 1\n",
        "\n",
        "if upper_count > lower_count:\n",
        "  print(word.upper())\n",
        "else:\n",
        "  print(word.lower())"
      ]
    },
    {
      "cell_type": "code",
      "source": [
        "#string task 2\n",
        "\n",
        "user = input('Enter your input: ')\n",
        "\n",
        "char_checker = ''\n",
        "\n",
        "for char in user:\n",
        "\n",
        "  if ('a' <= char <= 'z') or ( 'A' <= char <= 'Z' ):\n",
        "    char_checker += 'C'\n",
        "\n",
        "  elif char in '1234567890':\n",
        "    char_checker += 'N'\n",
        "\n",
        "if ('C' in char_checker) or ('N' in char_checker):\n",
        "  if ('C' in char_checker) and ( 'N' not in char_checker ):\n",
        "    print('WORD')\n",
        "  elif ('C' not in char_checker) and ( 'N' in char_checker ):\n",
        "    print('NUMBER')\n",
        "  else:\n",
        "    print('MIXED')"
      ],
      "metadata": {
        "colab": {
          "base_uri": "https://localhost:8080/"
        },
        "id": "EGNRVuTMMVfe",
        "outputId": "e0ce5586-4dd4-45dc-cfd1-feb593dc21c9"
      },
      "execution_count": null,
      "outputs": [
        {
          "output_type": "stream",
          "name": "stdout",
          "text": [
            "Enter your input: Hello\n",
            "WORD\n"
          ]
        }
      ]
    },
    {
      "cell_type": "code",
      "source": [
        "#string task 3\n",
        "\n",
        "word = input('Enter your string: ')\n",
        "start = None\n",
        "end = None\n",
        "for i in range(len(word)):\n",
        "  if (start == None) and ('A' <= word[i] <= 'Z'):\n",
        "    start = i+1\n",
        "  elif end==None and 'A' <= word[i] <= 'Z':\n",
        "    end = i\n",
        "    break\n",
        "word = word[start:end:]\n",
        "\n",
        "if word == '':\n",
        "  print('BLANK')\n",
        "else:\n",
        "  print(word)"
      ],
      "metadata": {
        "colab": {
          "base_uri": "https://localhost:8080/"
        },
        "id": "XcnjuVyWN2Ke",
        "outputId": "11c8677e-6840-4d9c-e2bf-97c6a085a599"
      },
      "execution_count": null,
      "outputs": [
        {
          "output_type": "stream",
          "name": "stdout",
          "text": [
            "Enter your string: coDIng\n",
            "BLANK\n"
          ]
        }
      ]
    },
    {
      "cell_type": "code",
      "source": [
        "#string task 4\n",
        "\n",
        "words = input('Enter your word: ')\n",
        "w1, w2 = words.split(', ')\n",
        "result = ''\n",
        "\n",
        "for elem in w1:\n",
        "  if elem in w2:\n",
        "    result += elem\n",
        "\n",
        "for elem in w2:\n",
        "  if elem in w1:\n",
        "    result += elem\n",
        "\n",
        "if result == '':\n",
        "  print('Nothing in common.')\n",
        "else:\n",
        "  print(result)"
      ],
      "metadata": {
        "colab": {
          "base_uri": "https://localhost:8080/"
        },
        "id": "etJ7TWbJPh5k",
        "outputId": "7a10f4f8-6712-437a-813c-0c01c81667d3"
      },
      "execution_count": null,
      "outputs": [
        {
          "output_type": "stream",
          "name": "stdout",
          "text": [
            "Enter your word: dean, tom\n",
            "Nothing in common\n"
          ]
        }
      ]
    },
    {
      "cell_type": "code",
      "source": [
        "#string task 5\n",
        "\n",
        "#task 5\n",
        "\n",
        "passw = input('Enter the password: ')\n",
        "checker = ''\n",
        "\n",
        "for elem in passw:\n",
        "\n",
        "  if elem in '1234567890':\n",
        "    checker += 'D'\n",
        "  \n",
        "  elif 'a' <= elem <= 'z':\n",
        "    checker += 'S'\n",
        "\n",
        "  elif 'A' <= elem <= 'Z':\n",
        "    checker += 'U'\n",
        "  \n",
        "  elif elem in '_$#@':\n",
        "    checker += 'C'\n",
        "\n",
        "wrong  = ''\n",
        "\n",
        "if 'U' not in checker:\n",
        "  wrong +='Uppercase character missing, '\n",
        "\n",
        "if 'D' not in checker:\n",
        "  wrong += 'Digit missing, '\n",
        "\n",
        "if 'C' not in checker:\n",
        "  wrong += 'Special character missing, '\n",
        "\n",
        "if 'S' not in checker:\n",
        "  wrong += 'Lowercase character missing, '\n",
        "\n",
        "if wrong != '':\n",
        "  print(wrong[:len(wrong)-2:])\n",
        "\n",
        "else:\n",
        "  print('OK')\n",
        "\n"
      ],
      "metadata": {
        "colab": {
          "base_uri": "https://localhost:8080/"
        },
        "id": "lj45xQsGQVtF",
        "outputId": "54eaad72-dbda-4889-8d35-e8a379dff3b6"
      },
      "execution_count": null,
      "outputs": [
        {
          "output_type": "stream",
          "name": "stdout",
          "text": [
            "Enter the password: ohMyBR@CU\n",
            "Digit missing\n"
          ]
        }
      ]
    },
    {
      "cell_type": "code",
      "source": [
        "#LIST task 1\n",
        "\n",
        "inp = ''\n",
        "all_list = []\n",
        "dist_list = []\n",
        "\n",
        "while True:\n",
        "\n",
        "  n = input('Enter a number: ')\n",
        "\n",
        "  if n == 'STOP':\n",
        "    break\n",
        "\n",
        "  else:\n",
        "\n",
        "    n = int(n)\n",
        "\n",
        "    all_list.append(n)\n",
        "\n",
        "for elem in all_list:\n",
        "\n",
        "  if elem not in dist_list:\n",
        "\n",
        "    dist_list.append(elem)\n",
        "\n",
        "for ele in dist_list:\n",
        "\n",
        "  count = 0\n",
        "\n",
        "  for elem in all_list:\n",
        "    if ele == elem:\n",
        "      count+= 1\n",
        "\n",
        "  print(ele, '-', count, 'times')\n"
      ],
      "metadata": {
        "id": "lBv7aYoaRidZ"
      },
      "execution_count": null,
      "outputs": []
    },
    {
      "cell_type": "code",
      "source": [
        "#LIST task 2\n",
        "\n",
        "n = int(input('How many test cases: '))\n",
        "largest_list = []\n",
        "\n",
        "final_list = []\n",
        "\n",
        "for i in range(n):\n",
        "  user = input('Enter the numbers: ').split()\n",
        "  temp1 = []\n",
        "  for elem in user:\n",
        "    temp1.append(int(elem))\n",
        "  largest_list.append(temp1)\n",
        "\n",
        "for lists in largest_list:\n",
        "  sum = 0\n",
        "  for num in lists:\n",
        "    sum += num\n",
        "  final_list.append([lists, sum])\n",
        "\n",
        "for i in range(len(final_list)):\n",
        "  max_ind = i\n",
        "\n",
        "  for j in range(i+1, len(final_list)):\n",
        "\n",
        "    if final_list[max_ind][1] < final_list[j][1]:\n",
        "      max_ind = j\n",
        "\n",
        "  final_list[i], final_list[max_ind] = final_list[max_ind], final_list[i]\n",
        "\n",
        "print(final_list[0][1])\n",
        "print(final_list[0][0])"
      ],
      "metadata": {
        "colab": {
          "base_uri": "https://localhost:8080/"
        },
        "id": "XM8PPk7oSR0t",
        "outputId": "6f65458f-3c3d-4f67-a6d5-17251732db87"
      },
      "execution_count": null,
      "outputs": [
        {
          "output_type": "stream",
          "name": "stdout",
          "text": [
            "How many test cases: 4\n",
            "Enter the numbers: 1 2 3\n",
            "Enter the numbers: 4 5 6\n",
            "Enter the numbers: 10 11 12\n",
            "Enter the numbers: 7 8 9\n",
            "33\n",
            "[10, 11, 12]\n"
          ]
        }
      ]
    },
    {
      "cell_type": "code",
      "source": [
        "#LIST task 3\n",
        "\n",
        "all_list = []\n",
        "result_list = []\n",
        "\n",
        "for i in range(2):\n",
        "  user = input('Enter the numbers: ').split()\n",
        "  temp1 = [ int(x) for x in user]\n",
        "  all_list.append(temp1)\n",
        "\n",
        "for lists in all_list:\n",
        "  for elem in lists:\n",
        "    for i in range(len(all_list[1])):\n",
        "      result_list.append(elem*all_list[1][i])\n",
        "  break\n",
        "\n",
        "print(result_list)"
      ],
      "metadata": {
        "colab": {
          "base_uri": "https://localhost:8080/"
        },
        "id": "799XzlNXU5LI",
        "outputId": "f837e26f-e522-4f23-dbaa-1a7d20746d5f"
      },
      "execution_count": null,
      "outputs": [
        {
          "output_type": "stream",
          "name": "stdout",
          "text": [
            "Enter the numbers: 2 3 6\n",
            "Enter the numbers: 3 4 5\n",
            "[6, 8, 10, 9, 12, 15, 18, 24, 30]\n"
          ]
        }
      ]
    },
    {
      "cell_type": "code",
      "source": [
        "#LIST task 4\n",
        "\n",
        "while True:\n",
        "  user = input('Enter your input: ')\n",
        "\n",
        "  if user == 'STOP':\n",
        "    break\n",
        "  else:\n",
        "    user = user.split()\n",
        "    user = [int(elem) for elem in user]\n",
        "    difference_list = []\n",
        "\n",
        "    for i in range(len(user)-1):\n",
        "      difference_list.append(abs ( user[i]-user[i+1] ) )\n",
        "    checker_list = list(range(1, len(user)))\n",
        "    temp_1 = difference_list.copy()\n",
        "    for elem in checker_list:\n",
        "      if elem in temp_1:\n",
        "        difference_list.remove(elem)\n",
        "\n",
        "    if len(difference_list) == 0:\n",
        "      print('UB Jumper')\n",
        "    else:\n",
        "      print('Not UB Jumper')"
      ],
      "metadata": {
        "colab": {
          "base_uri": "https://localhost:8080/"
        },
        "id": "7rKOIH0zY-KT",
        "outputId": "8217968a-48b2-4f54-fcb9-389347578451"
      },
      "execution_count": null,
      "outputs": [
        {
          "name": "stdout",
          "output_type": "stream",
          "text": [
            "Enter your input: 1 4 2 3\n",
            "UB Jumper\n",
            "Enter your input: 2 1 4 6 10\n",
            "UB Jumper\n",
            "Enter your input: 1 4 2 -1 6\n",
            "Not UB Jumper\n",
            "Enter your input: STOP\n"
          ]
        }
      ]
    },
    {
      "cell_type": "code",
      "source": [
        "#LIST task 5\n",
        "\n",
        "w = input('Enter n, k: ')\n",
        "\n",
        "n, k = w.split(' ')\n",
        "n, k = int(n), int(k)\n",
        "\n",
        "temp1 = []\n",
        "\n",
        "count = input('Enter partic count: ')\n",
        "\n",
        "count_list = count.split(' ')\n",
        "\n",
        "for elem in count_list:\n",
        "  temp1.append(int(elem))\n",
        "\n",
        "for ele in temp1:\n",
        "\n",
        "  if ele + k > 5:\n",
        "    n-= 1\n",
        "\n",
        "p = n//3\n",
        "\n",
        "print(p)"
      ],
      "metadata": {
        "id": "yA4QWlw5ZcE7"
      },
      "execution_count": null,
      "outputs": []
    },
    {
      "cell_type": "code",
      "source": [
        "#DICTIONARY TUPLE task 1\n",
        "\n",
        "dict_1 = {}\n",
        "dict_2 = {}\n",
        "dict_3 = {}\n",
        "\n",
        "for i in range(2):\n",
        "  user_list = input('Enter your dictionary: ').split(', ')\n",
        "\n",
        "  for elem in user_list:\n",
        "    key, value = elem.split(': ')\n",
        "\n",
        "    if i ==0:\n",
        "      dict_1[key] = int(value)\n",
        "    else:\n",
        "      dict_2[key] = int(value)\n",
        "\n",
        "for key1, value1 in dict_1.items():\n",
        "\n",
        "  for key2, value2 in dict_2.items():\n",
        "\n",
        "    if key1 == key2:\n",
        "\n",
        "      dict_3[key1] = value1 + value2\n",
        "  \n",
        "  if key1 not in dict_3.keys():\n",
        "    dict_3[key1] = value1\n",
        "\n",
        "for key2, value2 in dict_2.items():\n",
        "\n",
        "  if key2 not in dict_3.keys():\n",
        "\n",
        "    dict_3[key2] = value2\n",
        "\n",
        "print('dict_3:        ', dict_3)\n",
        "temp1 = []\n",
        "for values in dict_3.values():\n",
        "  temp1.append(values)\n",
        "\n",
        "temp2  = []\n",
        "temp1 = sorted([x for x in temp1])\n",
        "\n",
        "for elem in temp1:\n",
        "  if elem not in temp2:\n",
        "    temp2.append(elem)\n",
        "\n",
        "print('Values:', tuple(temp2))"
      ],
      "metadata": {
        "colab": {
          "base_uri": "https://localhost:8080/"
        },
        "id": "ejFBcCGneuF6",
        "outputId": "41329554-5579-48f7-b9e9-8bbccb60f012"
      },
      "execution_count": null,
      "outputs": [
        {
          "output_type": "stream",
          "name": "stdout",
          "text": [
            "Enter your dictionary: a: 100, b: 100, c: 200, d: 300\n",
            "Enter your dictionary: a: 300, b: 200, d: 400, e: 200\n",
            "dict_3:         {'a': 400, 'b': 300, 'c': 200, 'd': 700, 'e': 200}\n",
            "Values: (200, 300, 400, 700)\n"
          ]
        }
      ]
    },
    {
      "cell_type": "code",
      "source": [
        "#DICTIONARY TUPLE task 2\n",
        "\n",
        "all_list = []\n",
        "\n",
        "while True:\n",
        "\n",
        "  n = input('Enter n: ')\n",
        "\n",
        "  if n=='STOP':\n",
        "    break\n",
        "  else:\n",
        "    all_list.append(int(n))\n",
        "\n",
        "dict_1 = {}\n",
        "\n",
        "for elem in all_list:\n",
        "\n",
        "  if elem not in dict_1:\n",
        "    dict_1[elem] = 1\n",
        "  \n",
        "  else:\n",
        "    dict_1[elem] += 1\n",
        "\n",
        "for k, v in dict_1.items():\n",
        "  print(k, '-', v, 'times')"
      ],
      "metadata": {
        "id": "Bux9PFOBduYj"
      },
      "execution_count": null,
      "outputs": []
    },
    {
      "cell_type": "code",
      "source": [
        "#DICTIONARY TUPLE task 3\n",
        "\n",
        "user_list = input('Enter your dictionary: ').split(', ')\n",
        "\n",
        "temp_1 = []\n",
        "\n",
        "all_list  = []\n",
        "\n",
        "for elem in user_list:\n",
        "  key, value = elem.split(' : ')\n",
        "  temp_1.append([key, value])\n",
        "\n",
        "count = 0\n",
        "\n",
        "for lists in temp_1:\n",
        "  temp_2 = []\n",
        "  temp_2.append(lists[1])\n",
        "  temp_2.append(lists[0])\n",
        "\n",
        "  for i in range(count+1, len(temp_1)):\n",
        "    if lists[1] == temp_1[i][1]:\n",
        "      temp_2.append(temp_1[i][0])\n",
        "\n",
        "  all_list.append(temp_2)\n",
        "  count += 1\n",
        "\n",
        "dict_1 = {}\n",
        "\n",
        "for lists in all_list:\n",
        "\n",
        "  if lists[0] not in dict_1:\n",
        "\n",
        "    dict_1[lists[0]] = []\n",
        "\n",
        "    for i in range(1, len(lists)):\n",
        "      dict_1[lists[0]].append(lists[i])\n",
        "\n",
        "print(dict_1)"
      ],
      "metadata": {
        "colab": {
          "base_uri": "https://localhost:8080/"
        },
        "id": "QgMwIFMqg27K",
        "outputId": "3f5938d9-73a9-4284-f13b-f3d6129fbcb3"
      },
      "execution_count": null,
      "outputs": [
        {
          "output_type": "stream",
          "name": "stdout",
          "text": [
            "Enter your dictionary: key1 : value1, key2 : value2, key3 : value1\n",
            "{'value1': ['key1', 'key3'], 'value2': ['key2']}\n"
          ]
        }
      ]
    },
    {
      "cell_type": "code",
      "source": [
        "#overall final task\n",
        "\n",
        "dict_1 = {'1': '.,?!:', '2': 'ABC', '3': 'DEF', '4':'GHI', '5':'JKL', '6':'MNO', '7':'PQRS', '8':'TUV', '9':'WXYZ', '0':' ' }\n",
        "\n",
        "msg = input('Enter your message: ')\n",
        "msg = msg.lower()\n",
        "\n",
        "result = ''\n",
        "\n",
        "for char in msg:\n",
        "\n",
        "  count = 0\n",
        "\n",
        "  for k, v in dict_1.items():\n",
        "\n",
        "    v = v.lower()\n",
        "\n",
        "    if char in v:\n",
        "\n",
        "      for i in range(1, len(v)+1):\n",
        "        if v[i-1] == char:\n",
        "          count = i\n",
        "      \n",
        "      break\n",
        "\n",
        "  for i in range(count):\n",
        "    result += k\n",
        "\n",
        "print(result)"
      ],
      "metadata": {
        "id": "S9MdZAS-q8KU",
        "colab": {
          "base_uri": "https://localhost:8080/"
        },
        "outputId": "1a088f78-96b2-4ecc-ab90-a36eee4a3d81"
      },
      "execution_count": null,
      "outputs": [
        {
          "output_type": "stream",
          "name": "stdout",
          "text": [
            "Enter your message: Hello, World!\n",
            "4433555555666110966677755531111\n"
          ]
        }
      ]
    },
    {
      "cell_type": "code",
      "source": [
        "#extra \n",
        "\n",
        "#section 9 SAD Quiz 1\n",
        "\n",
        "li=[\"Shisir\",\"Ratul\",\"kns\"]\n",
        "d={}\n",
        "l=[]\n",
        "for i in range (len(li)-1,-1,-1):\n",
        "  d[li[i]]=[]\n",
        "  l.append(li[i])\n",
        "\n",
        "print(l)\n",
        "print(d) \n",
        "for i in l:\n",
        "  for j in range(len(i)-1,-1,-1):\n",
        "    d[i].append(i[j])\n",
        "print(d)      "
      ],
      "metadata": {
        "id": "iXSKQjfwbAml",
        "colab": {
          "base_uri": "https://localhost:8080/"
        },
        "outputId": "7b33125a-989f-4b3e-ee9c-a381be96c15d"
      },
      "execution_count": 1,
      "outputs": [
        {
          "output_type": "stream",
          "name": "stdout",
          "text": [
            "['kns', 'Ratul', 'Shisir']\n",
            "{'kns': [], 'Ratul': [], 'Shisir': []}\n",
            "{'kns': ['s', 'n', 'k'], 'Ratul': ['l', 'u', 't', 'a', 'R'], 'Shisir': ['r', 'i', 's', 'i', 'h', 'S']}\n"
          ]
        }
      ]
    }
  ]
}